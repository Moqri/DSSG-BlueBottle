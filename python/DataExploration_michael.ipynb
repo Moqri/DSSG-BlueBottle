{
 "cells": [
  {
   "cell_type": "code",
   "execution_count": 2,
   "metadata": {
    "collapsed": true
   },
   "outputs": [],
   "source": [
    "import pandas as pd\n",
    "import numpy as np"
   ]
  },
  {
   "cell_type": "code",
   "execution_count": 3,
   "metadata": {
    "collapsed": false
   },
   "outputs": [
    {
     "name": "stderr",
     "output_type": "stream",
     "text": [
      "/Users/michael/anaconda/lib/python2.7/site-packages/pandas/io/parsers.py:1159: DtypeWarning: Columns (19) have mixed types. Specify dtype option on import or set low_memory=False.\n",
      "  data = self._reader.read(nrows)\n"
     ]
    }
   ],
   "source": [
    "# Load data from CSV\n",
    "df = pd.read_csv(\"../data/Building_Violations_sample_50000.csv\")\n"
   ]
  },
  {
   "cell_type": "code",
   "execution_count": 4,
   "metadata": {
    "collapsed": false
   },
   "outputs": [],
   "source": [
    "## Clean data\n",
    "\n",
    "# Delete useless variable\n",
    "del df['Unnamed: 0']\n",
    "\n",
    "# Convert column headers to snake case\n",
    "import re\n",
    "\n",
    "def spaces_to_snake(str_with_spaces):\n",
    "    s = re.sub('\\s+','_',str_with_spaces)\n",
    "    return s.lower()\n",
    "\n",
    "df.columns = [spaces_to_snake(col) for col in df.columns]\n",
    "df.columns\n",
    "\n",
    "# Delete SSA column\n",
    "del df['ssa']\n",
    "\n",
    "# Convert dates to datetime format\n",
    "df.violation_date = pd.to_datetime(df.violation_date)\n",
    "df.violation_status_date = pd.to_datetime(df.violation_status_date)\n",
    "df.violation_last_modified_date = pd.to_datetime(df.violation_last_modified_date)"
   ]
  },
  {
   "cell_type": "code",
   "execution_count": 6,
   "metadata": {
    "collapsed": true
   },
   "outputs": [],
   "source": [
    "# Clean missing values\n",
    "df.violation_description = df.violation_description.fillna('Empty description')"
   ]
  },
  {
   "cell_type": "code",
   "execution_count": 7,
   "metadata": {
    "collapsed": false
   },
   "outputs": [],
   "source": [
    "df.violation_ordinance = df.violation_ordinance.fillna('Missing ordinance')"
   ]
  },
  {
   "cell_type": "code",
   "execution_count": 45,
   "metadata": {
    "collapsed": false
   },
   "outputs": [
    {
     "data": {
      "text/plain": [
       "id                                  0\n",
       "violation_last_modified_date        0\n",
       "violation_date                      0\n",
       "violation_code                      0\n",
       "violation_status                    0\n",
       "violation_status_date           36488\n",
       "violation_description               0\n",
       "violation_location              32484\n",
       "violation_inspector_comments     5295\n",
       "violation_ordinance                 0\n",
       "inspector_id                        0\n",
       "inspection_number                   0\n",
       "inspection_status                   0\n",
       "inspection_waived                   0\n",
       "inspection_category                 0\n",
       "department_bureau                   0\n",
       "address                             0\n",
       "property_group                      0\n",
       "latitude                           48\n",
       "longitude                          48\n",
       "location                           48\n",
       "dtype: int64"
      ]
     },
     "execution_count": 45,
     "metadata": {},
     "output_type": "execute_result"
    }
   ],
   "source": [
    "# Count missing values\n",
    "df.isnull().sum(axis=0)"
   ]
  },
  {
   "cell_type": "code",
   "execution_count": 8,
   "metadata": {
    "collapsed": false
   },
   "outputs": [],
   "source": [
    "# Write CSV with cleaned data\n",
    "df.to_csv(\"../data/Building_Violations_sample_50000_clean.csv\")"
   ]
  },
  {
   "cell_type": "code",
   "execution_count": 9,
   "metadata": {
    "collapsed": false
   },
   "outputs": [
    {
     "data": {
      "text/plain": [
       "id                                       int64\n",
       "violation_last_modified_date    datetime64[ns]\n",
       "violation_date                  datetime64[ns]\n",
       "violation_code                          object\n",
       "violation_status                        object\n",
       "violation_status_date           datetime64[ns]\n",
       "violation_description                   object\n",
       "violation_location                      object\n",
       "violation_inspector_comments            object\n",
       "violation_ordinance                     object\n",
       "inspector_id                            object\n",
       "inspection_number                        int64\n",
       "inspection_status                       object\n",
       "inspection_waived                       object\n",
       "inspection_category                     object\n",
       "department_bureau                       object\n",
       "address                                 object\n",
       "property_group                           int64\n",
       "latitude                               float64\n",
       "longitude                              float64\n",
       "location                                object\n",
       "dtype: object"
      ]
     },
     "execution_count": 9,
     "metadata": {},
     "output_type": "execute_result"
    }
   ],
   "source": [
    "df.dtypes"
   ]
  },
  {
   "cell_type": "code",
   "execution_count": 10,
   "metadata": {
    "collapsed": false
   },
   "outputs": [
    {
     "data": {
      "text/plain": [
       "count        50000\n",
       "unique         757\n",
       "top       CN190019\n",
       "freq          2463\n",
       "Name: violation_code, dtype: object"
      ]
     },
     "execution_count": 10,
     "metadata": {},
     "output_type": "execute_result"
    }
   ],
   "source": [
    "## Explore violation codes ##\n",
    "\n",
    "# Check how many different violation codes there are\n",
    "df.violation_code.describe()"
   ]
  },
  {
   "cell_type": "code",
   "execution_count": 36,
   "metadata": {
    "collapsed": false
   },
   "outputs": [
    {
     "data": {
      "text/plain": [
       "count                          50000\n",
       "unique                           725\n",
       "top       ARRANGE PREMISE INSPECTION\n",
       "freq                            2463\n",
       "Name: violation_description, dtype: object"
      ]
     },
     "execution_count": 36,
     "metadata": {},
     "output_type": "execute_result"
    }
   ],
   "source": [
    "df.violation_description.describe()"
   ]
  },
  {
   "cell_type": "code",
   "execution_count": 37,
   "metadata": {
    "collapsed": false
   },
   "outputs": [
    {
     "data": {
      "text/plain": [
       "count                                               50000\n",
       "unique                                                717\n",
       "top       Arrange for inspection of premises. (13-12-100)\n",
       "freq                                                 2463\n",
       "Name: violation_ordinance, dtype: object"
      ]
     },
     "execution_count": 37,
     "metadata": {},
     "output_type": "execute_result"
    }
   ],
   "source": [
    "df.violation_ordinance.describe()"
   ]
  },
  {
   "cell_type": "code",
   "execution_count": 11,
   "metadata": {
    "collapsed": false
   },
   "outputs": [
    {
     "data": {
      "text/plain": [
       "ARRANGE PREMISE INSPECTION        2463\n",
       "POST OWNER/MANAGERS NAME/#        1619\n",
       "REPAIR EXTERIOR WALL              1488\n",
       "REPAIR PORCH SYSTEM               1326\n",
       "VACANT BUILDING - REGISTER        1065\n",
       "REPLCE WINDOW PANES, PLEXGLAS     1011\n",
       "PLANS & PERMITS REQ - CONTRCTR     964\n",
       "REPAIR EXTERIOR STAIR              937\n",
       "FILE BLDG REGISTRATION             904\n",
       "INSTALL SMOKE DETECTORS            892\n",
       "MAINTAIN OR REPAIR ELECT ELEVA     730\n",
       "DEBRIS, EXCESSIVE                  725\n",
       "STOP/REMOVE NUISANCE               696\n",
       "CARB MONOX DETECT IN RESID         638\n",
       "OBSTRUCTIONS IN EXIT WAY           625\n",
       "...\n",
       "CARB MONOX DETECT IN HOTEL        1\n",
       "ELIMINATE TRIPPING HAZARD PASS    1\n",
       "ENCL/SECURE OPENINGS PASS         1\n",
       "REP/REPL HANDRAIL FOR ESCL        1\n",
       "IDENTIFY ELE MACHINES             1\n",
       "PRV CONDENSER                     1\n",
       "REP/REPL DEF HALL BUTTONS PASS    1\n",
       "HEATER 8FT ABOVE FLR IN GARAGE    1\n",
       "PROVIDE HOT WATER                 1\n",
       "PRV ABSORBER                      1\n",
       "VERIFICATIONS OF D.U.             1\n",
       "NONCOMPLIANT MANLIFT              1\n",
       "REPAIR UNSAFE WATER TANK          1\n",
       "REPL BRAKE LINING FRT             1\n",
       "STOP USING INTER.REFUSE CHUTE     1\n",
       "Length: 725, dtype: int64"
      ]
     },
     "execution_count": 11,
     "metadata": {},
     "output_type": "execute_result"
    }
   ],
   "source": [
    "# List violation descriptions\n",
    "df.violation_description.value_counts()"
   ]
  },
  {
   "cell_type": "code",
   "execution_count": 32,
   "metadata": {
    "collapsed": false
   },
   "outputs": [],
   "source": [
    "# Confirm that there is a m:1 mapping from violation_DESCRIPTION to violation_code\n",
    "grp_code = df.groupby(['violation_code'])\n",
    "grp_desc = df.groupby(['violation_description'])\n",
    "grp_code_desc = df.groupby(['violation_code', 'violation_description'])"
   ]
  },
  {
   "cell_type": "code",
   "execution_count": 33,
   "metadata": {
    "collapsed": false
   },
   "outputs": [
    {
     "data": {
      "text/plain": [
       "(757,)"
      ]
     },
     "execution_count": 33,
     "metadata": {},
     "output_type": "execute_result"
    }
   ],
   "source": [
    "grp_code.id.count().shape"
   ]
  },
  {
   "cell_type": "code",
   "execution_count": 34,
   "metadata": {
    "collapsed": false
   },
   "outputs": [
    {
     "data": {
      "text/plain": [
       "(725,)"
      ]
     },
     "execution_count": 34,
     "metadata": {},
     "output_type": "execute_result"
    }
   ],
   "source": [
    "grp_desc.id.count().shape"
   ]
  },
  {
   "cell_type": "code",
   "execution_count": 35,
   "metadata": {
    "collapsed": false
   },
   "outputs": [
    {
     "data": {
      "text/plain": [
       "(757,)"
      ]
     },
     "execution_count": 35,
     "metadata": {},
     "output_type": "execute_result"
    }
   ],
   "source": [
    "grp_code_desc.id.count().shape"
   ]
  },
  {
   "cell_type": "code",
   "execution_count": 25,
   "metadata": {
    "collapsed": true
   },
   "outputs": [],
   "source": [
    "# Confirm that there is a m:1 mapping from violation_ORDINANCE to violation_code\n",
    "grp_ord = df.groupby(['violation_ordinance'])\n",
    "grp_code_ord = df.groupby(['violation_code', 'violation_ordinance'])"
   ]
  },
  {
   "cell_type": "code",
   "execution_count": 26,
   "metadata": {
    "collapsed": false
   },
   "outputs": [
    {
     "data": {
      "text/plain": [
       "(717,)"
      ]
     },
     "execution_count": 26,
     "metadata": {},
     "output_type": "execute_result"
    }
   ],
   "source": [
    "grp_ord.id.count().shape"
   ]
  },
  {
   "cell_type": "code",
   "execution_count": 27,
   "metadata": {
    "collapsed": false
   },
   "outputs": [
    {
     "data": {
      "text/plain": [
       "(757,)"
      ]
     },
     "execution_count": 27,
     "metadata": {},
     "output_type": "execute_result"
    }
   ],
   "source": [
    "grp_code_ord.id.count().shape"
   ]
  },
  {
   "cell_type": "code",
   "execution_count": 30,
   "metadata": {
    "collapsed": false
   },
   "outputs": [],
   "source": [
    "# Create a list of violation codes (unique key) mapped to their descriptions and ordinances\n",
    "list_of_violations = df[['violation_code', 'violation_description', 'violation_ordinance']].sort(['violation_code']).drop_duplicates()\n",
    "list_of_violations.to_csv('../data documentation/list_of_violations.csv',index=False)"
   ]
  },
  {
   "cell_type": "code",
   "execution_count": 31,
   "metadata": {
    "collapsed": false
   },
   "outputs": [
    {
     "data": {
      "text/html": [
       "<div style=\"max-height:1000px;max-width:1500px;overflow:auto;\">\n",
       "<table border=\"1\" class=\"dataframe\">\n",
       "  <thead>\n",
       "    <tr style=\"text-align: right;\">\n",
       "      <th></th>\n",
       "      <th>violation_code</th>\n",
       "      <th>violation_description</th>\n",
       "      <th>violation_ordinance</th>\n",
       "    </tr>\n",
       "  </thead>\n",
       "  <tbody>\n",
       "    <tr>\n",
       "      <th>14807</th>\n",
       "      <td> 020008</td>\n",
       "      <td>            Empty description</td>\n",
       "      <td>                                 Missing ordinance</td>\n",
       "    </tr>\n",
       "    <tr>\n",
       "      <th>48248</th>\n",
       "      <td> 190019</td>\n",
       "      <td>                     NO ENTRY</td>\n",
       "      <td>                                 Missing ordinance</td>\n",
       "    </tr>\n",
       "    <tr>\n",
       "      <th>25480</th>\n",
       "      <td> 199029</td>\n",
       "      <td>          OPEN TYPE VIOLATION</td>\n",
       "      <td>                                 Missing ordinance</td>\n",
       "    </tr>\n",
       "    <tr>\n",
       "      <th>11253</th>\n",
       "      <td> BR1000</td>\n",
       "      <td>          LICENSED CONTRACTOR</td>\n",
       "      <td> The code violations listed below must be corre...</td>\n",
       "    </tr>\n",
       "    <tr>\n",
       "      <th>33151</th>\n",
       "      <td> BR1001</td>\n",
       "      <td> OWNER OR LICENSED CONTRACTOR</td>\n",
       "      <td> The code violations listed below must be corre...</td>\n",
       "    </tr>\n",
       "  </tbody>\n",
       "</table>\n",
       "</div>"
      ],
      "text/plain": [
       "      violation_code         violation_description  \\\n",
       "14807         020008             Empty description   \n",
       "48248         190019                      NO ENTRY   \n",
       "25480         199029           OPEN TYPE VIOLATION   \n",
       "11253         BR1000           LICENSED CONTRACTOR   \n",
       "33151         BR1001  OWNER OR LICENSED CONTRACTOR   \n",
       "\n",
       "                                     violation_ordinance  \n",
       "14807                                  Missing ordinance  \n",
       "48248                                  Missing ordinance  \n",
       "25480                                  Missing ordinance  \n",
       "11253  The code violations listed below must be corre...  \n",
       "33151  The code violations listed below must be corre...  "
      ]
     },
     "execution_count": 31,
     "metadata": {},
     "output_type": "execute_result"
    }
   ],
   "source": [
    "list_of_violations.head()"
   ]
  },
  {
   "cell_type": "code",
   "execution_count": 14,
   "metadata": {
    "collapsed": false
   },
   "outputs": [
    {
     "data": {
      "text/plain": [
       "count     50000\n",
       "unique        3\n",
       "top        OPEN\n",
       "freq      36355\n",
       "Name: violation_status, dtype: object"
      ]
     },
     "execution_count": 14,
     "metadata": {},
     "output_type": "execute_result"
    }
   ],
   "source": [
    "## Explore violation status ##\n",
    "\n",
    "# Check how many kinds of violation status\n",
    "df.violation_status.describe()"
   ]
  },
  {
   "cell_type": "code",
   "execution_count": 15,
   "metadata": {
    "collapsed": false
   },
   "outputs": [
    {
     "data": {
      "text/plain": [
       "OPEN        36355\n",
       "COMPLIED    13500\n",
       "NO ENTRY      145\n",
       "dtype: int64"
      ]
     },
     "execution_count": 15,
     "metadata": {},
     "output_type": "execute_result"
    }
   ],
   "source": [
    "df.violation_status.value_counts()"
   ]
  },
  {
   "cell_type": "code",
   "execution_count": 16,
   "metadata": {
    "collapsed": false
   },
   "outputs": [
    {
     "data": {
      "text/plain": [
       "0                    OTHER   :    :\n",
       "1     OTHER   :    :MULTIPLE FLOORS\n",
       "2                    OTHER   :    :\n",
       "3                    OTHER   :    :\n",
       "4                    OTHER   :    :\n",
       "5                    OTHER   :    :\n",
       "6                    OTHER   :    :\n",
       "7                    EXTERIOR:W   :\n",
       "8                    OTHER   :    :\n",
       "9            OTHER   :    :BUILDING\n",
       "10                   OTHER   :    :\n",
       "11                   OTHER   :    :\n",
       "12                   EXTERIOR:S   :\n",
       "13                              NaN\n",
       "14                   EXTERIOR:W   :\n",
       "...\n",
       "85            OTHER   :    :\n",
       "86            OTHER   :    :\n",
       "87                       NaN\n",
       "88            OTHER   :    :\n",
       "89            OTHER   :    :\n",
       "90            OTHER   :    :\n",
       "91            INTERIOR:-1  :\n",
       "92            OTHER   :    :\n",
       "93                       NaN\n",
       "94            OTHER   :    :\n",
       "95                       NaN\n",
       "96            EXTERIOR:S   :\n",
       "97    OTHER   :    :BUILDING\n",
       "98                       NaN\n",
       "99                       NaN\n",
       "Name: violation_location, Length: 100, dtype: object"
      ]
     },
     "execution_count": 16,
     "metadata": {},
     "output_type": "execute_result"
    }
   ],
   "source": [
    "# Violation location\n",
    "# (an ugly string variable)\n",
    "df.violation_location.head(100)"
   ]
  },
  {
   "cell_type": "code",
   "execution_count": 43,
   "metadata": {
    "collapsed": false
   },
   "outputs": [
    {
     "data": {
      "text/plain": [
       "violation_location\n",
       "#100300460                         1\n",
       "#127 COMPLIED                      1\n",
       "#127 TONY TINERELLA COMPLIED       1\n",
       "#2 CLEAVER BROOKS OK 7/10/06       1\n",
       "#208 COMPLIED                      1\n",
       "#2ND FLOOR HOT WATER TEMP 102F     1\n",
       "#507  #510                         1\n",
       "#BL1001                            2\n",
       "-                                  1\n",
       "//112464                           1\n",
       "//BL00748                          1\n",
       "//BL00804                          1\n",
       "//BL00946                         61\n",
       "//BL00946, PLAN OBTAINED           1\n",
       "//BL00946, SEASONAL                1\n",
       "...\n",
       "WEST ELEVATION  -                  1\n",
       "WEST ELEVATIONS -                  1\n",
       "WEST YARD                          2\n",
       "WEST, SOUTH , NORTH                1\n",
       "WEST, STAIRWAY                     1\n",
       "WHOLE HOUSE                        1\n",
       "WINDOW                             1\n",
       "WORK DONE BY ANDEE BOILER # 786    1\n",
       "WORK DONE BY ANDEE BOILER #462     1\n",
       "X                                  2\n",
       "XX                                 8\n",
       "XX:INSPECTION                      2\n",
       "XXX                                2\n",
       "YARD                               3\n",
       "`                                  1\n",
       "Length: 3431, dtype: int64"
      ]
     },
     "execution_count": 43,
     "metadata": {},
     "output_type": "execute_result"
    }
   ],
   "source": [
    "df.groupby(['violation_location']).size()"
   ]
  },
  {
   "cell_type": "code",
   "execution_count": 38,
   "metadata": {
    "collapsed": false
   },
   "outputs": [
    {
     "data": {
      "text/plain": [
       "count                         44705\n",
       "unique                        40583\n",
       "top       NO OWNER I.D SIGN POSTED.\n",
       "freq                             72\n",
       "Name: violation_inspector_comments, dtype: object"
      ]
     },
     "execution_count": 38,
     "metadata": {},
     "output_type": "execute_result"
    }
   ],
   "source": [
    "df.violation_inspector_comments.describe()"
   ]
  },
  {
   "cell_type": "code",
   "execution_count": 46,
   "metadata": {
    "collapsed": false
   },
   "outputs": [
    {
     "data": {
      "text/plain": [
       "count       50000\n",
       "unique        273\n",
       "top       BL00444\n",
       "freq         2180\n",
       "Name: inspector_id, dtype: object"
      ]
     },
     "execution_count": 46,
     "metadata": {},
     "output_type": "execute_result"
    }
   ],
   "source": [
    "## Inspector Info ##\n",
    "\n",
    "df.inspector_id.describe()"
   ]
  },
  {
   "cell_type": "code",
   "execution_count": 47,
   "metadata": {
    "collapsed": false
   },
   "outputs": [
    {
     "data": {
      "text/plain": [
       "0    BL00444\n",
       "1    BL00748\n",
       "2    BL00746\n",
       "3    BL00746\n",
       "4     104976\n",
       "Name: inspector_id, dtype: object"
      ]
     },
     "execution_count": 47,
     "metadata": {},
     "output_type": "execute_result"
    }
   ],
   "source": [
    "df.inspector_id.head()"
   ]
  },
  {
   "cell_type": "code",
   "execution_count": 48,
   "metadata": {
    "collapsed": false
   },
   "outputs": [
    {
     "data": {
      "text/plain": [
       "count       50000.000000\n",
       "mean      6195288.986320\n",
       "std       4296079.998463\n",
       "min        375113.000000\n",
       "25%       2021217.500000\n",
       "50%       2813561.000000\n",
       "75%      10630848.750000\n",
       "max      11597625.000000\n",
       "Name: inspection_number, dtype: float64"
      ]
     },
     "execution_count": 48,
     "metadata": {},
     "output_type": "execute_result"
    }
   ],
   "source": []
  },
  {
   "cell_type": "code",
   "execution_count": null,
   "metadata": {
    "collapsed": true
   },
   "outputs": [],
   "source": []
  }
 ],
 "metadata": {
  "kernelspec": {
   "display_name": "Python 2",
   "language": "python",
   "name": "python2"
  },
  "language_info": {
   "codemirror_mode": {
    "name": "ipython",
    "version": 2
   },
   "file_extension": ".py",
   "mimetype": "text/x-python",
   "name": "python",
   "nbconvert_exporter": "python",
   "pygments_lexer": "ipython2",
   "version": "2.7.9"
  }
 },
 "nbformat": 4,
 "nbformat_minor": 0
}
