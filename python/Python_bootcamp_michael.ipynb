{
 "cells": [
  {
   "cell_type": "markdown",
   "metadata": {},
   "source": [
    "## Working with Benedikt and Mahdi"
   ]
  },
  {
   "cell_type": "code",
   "execution_count": 1,
   "metadata": {
    "collapsed": true
   },
   "outputs": [],
   "source": [
    "import pandas as pd\n",
    "import numpy as np"
   ]
  },
  {
   "cell_type": "code",
   "execution_count": 2,
   "metadata": {
    "collapsed": false
   },
   "outputs": [
    {
     "name": "stderr",
     "output_type": "stream",
     "text": [
      "/Users/michael/anaconda/lib/python2.7/site-packages/pandas/io/parsers.py:1159: DtypeWarning: Columns (19) have mixed types. Specify dtype option on import or set low_memory=False.\n",
      "  data = self._reader.read(nrows)\n"
     ]
    }
   ],
   "source": [
    "df = pd.read_csv(\"data/Building_Violations_sample_50000.csv\")"
   ]
  },
  {
   "cell_type": "code",
   "execution_count": 3,
   "metadata": {
    "collapsed": false
   },
   "outputs": [
    {
     "data": {
      "text/html": [
       "<div style=\"max-height:1000px;max-width:1500px;overflow:auto;\">\n",
       "<table border=\"1\" class=\"dataframe\">\n",
       "  <thead>\n",
       "    <tr style=\"text-align: right;\">\n",
       "      <th></th>\n",
       "      <th>Unnamed: 0</th>\n",
       "      <th>ID</th>\n",
       "      <th>VIOLATION LAST MODIFIED DATE</th>\n",
       "      <th>VIOLATION DATE</th>\n",
       "      <th>VIOLATION CODE</th>\n",
       "      <th>VIOLATION STATUS</th>\n",
       "      <th>VIOLATION STATUS DATE</th>\n",
       "      <th>VIOLATION DESCRIPTION</th>\n",
       "      <th>VIOLATION LOCATION</th>\n",
       "      <th>VIOLATION INSPECTOR COMMENTS</th>\n",
       "      <th>...</th>\n",
       "      <th>INSPECTION STATUS</th>\n",
       "      <th>INSPECTION WAIVED</th>\n",
       "      <th>INSPECTION CATEGORY</th>\n",
       "      <th>DEPARTMENT BUREAU</th>\n",
       "      <th>ADDRESS</th>\n",
       "      <th>PROPERTY GROUP</th>\n",
       "      <th>SSA</th>\n",
       "      <th>LATITUDE</th>\n",
       "      <th>LONGITUDE</th>\n",
       "      <th>LOCATION</th>\n",
       "    </tr>\n",
       "  </thead>\n",
       "  <tbody>\n",
       "    <tr>\n",
       "      <th>0</th>\n",
       "      <td> 0</td>\n",
       "      <td> 5063843</td>\n",
       "      <td> 05/21/2015</td>\n",
       "      <td> 05/21/2015</td>\n",
       "      <td> CN065014</td>\n",
       "      <td> OPEN</td>\n",
       "      <td> NaN</td>\n",
       "      <td>                 REPAIR LINTELS</td>\n",
       "      <td>                OTHER   :    :</td>\n",
       "      <td>                                  LINTELS; RUSTED.</td>\n",
       "      <td>...</td>\n",
       "      <td> FAILED</td>\n",
       "      <td> N</td>\n",
       "      <td> COMPLAINT</td>\n",
       "      <td> CONSERVATION</td>\n",
       "      <td>                 722 E 89TH ST</td>\n",
       "      <td> 461523</td>\n",
       "      <td>  51</td>\n",
       "      <td> 41.733089</td>\n",
       "      <td>-87.606184</td>\n",
       "      <td> (41.73308939713441,-87.60618433527188)</td>\n",
       "    </tr>\n",
       "    <tr>\n",
       "      <th>1</th>\n",
       "      <td> 1</td>\n",
       "      <td> 5063990</td>\n",
       "      <td> 05/21/2015</td>\n",
       "      <td> 05/21/2015</td>\n",
       "      <td> CN044013</td>\n",
       "      <td> OPEN</td>\n",
       "      <td> NaN</td>\n",
       "      <td> PIPE OPENING W/NONCOMBUST MATL</td>\n",
       "      <td> OTHER   :    :MULTIPLE FLOORS</td>\n",
       "      <td> OPENINGS AROUND PIPES, SEAL WITH APPROVED MATE...</td>\n",
       "      <td>...</td>\n",
       "      <td> FAILED</td>\n",
       "      <td> N</td>\n",
       "      <td>  PERIODIC</td>\n",
       "      <td> CONSERVATION</td>\n",
       "      <td> 6444 S DR MARTIN L KING JR DR</td>\n",
       "      <td>  19575</td>\n",
       "      <td> NaN</td>\n",
       "      <td> 41.777088</td>\n",
       "      <td>-87.615694</td>\n",
       "      <td> (41.77708792596553,-87.61569442972947)</td>\n",
       "    </tr>\n",
       "    <tr>\n",
       "      <th>2</th>\n",
       "      <td> 2</td>\n",
       "      <td> 5064022</td>\n",
       "      <td> 05/21/2015</td>\n",
       "      <td> 05/21/2015</td>\n",
       "      <td> CN104035</td>\n",
       "      <td> OPEN</td>\n",
       "      <td> NaN</td>\n",
       "      <td>                MAINTAIN WINDOW</td>\n",
       "      <td>                OTHER   :    :</td>\n",
       "      <td> ALL ELEVATIONS , WOOD WINDOW FRAMES  AND NORTH...</td>\n",
       "      <td>...</td>\n",
       "      <td> FAILED</td>\n",
       "      <td> N</td>\n",
       "      <td> COMPLAINT</td>\n",
       "      <td> CONSERVATION</td>\n",
       "      <td>             3115 N SAWYER AVE</td>\n",
       "      <td> 117375</td>\n",
       "      <td> NaN</td>\n",
       "      <td> 41.937995</td>\n",
       "      <td>-87.708657</td>\n",
       "      <td> (41.93799454179893,-87.70865671096144)</td>\n",
       "    </tr>\n",
       "  </tbody>\n",
       "</table>\n",
       "<p>3 rows × 23 columns</p>\n",
       "</div>"
      ],
      "text/plain": [
       "   Unnamed: 0       ID VIOLATION LAST MODIFIED DATE VIOLATION DATE  \\\n",
       "0           0  5063843                   05/21/2015     05/21/2015   \n",
       "1           1  5063990                   05/21/2015     05/21/2015   \n",
       "2           2  5064022                   05/21/2015     05/21/2015   \n",
       "\n",
       "  VIOLATION CODE VIOLATION STATUS VIOLATION STATUS DATE  \\\n",
       "0       CN065014             OPEN                   NaN   \n",
       "1       CN044013             OPEN                   NaN   \n",
       "2       CN104035             OPEN                   NaN   \n",
       "\n",
       "            VIOLATION DESCRIPTION             VIOLATION LOCATION  \\\n",
       "0                  REPAIR LINTELS                 OTHER   :    :   \n",
       "1  PIPE OPENING W/NONCOMBUST MATL  OTHER   :    :MULTIPLE FLOORS   \n",
       "2                 MAINTAIN WINDOW                 OTHER   :    :   \n",
       "\n",
       "                        VIOLATION INSPECTOR COMMENTS  \\\n",
       "0                                   LINTELS; RUSTED.   \n",
       "1  OPENINGS AROUND PIPES, SEAL WITH APPROVED MATE...   \n",
       "2  ALL ELEVATIONS , WOOD WINDOW FRAMES  AND NORTH...   \n",
       "\n",
       "                    ...                   INSPECTION STATUS INSPECTION WAIVED  \\\n",
       "0                   ...                              FAILED                 N   \n",
       "1                   ...                              FAILED                 N   \n",
       "2                   ...                              FAILED                 N   \n",
       "\n",
       "   INSPECTION CATEGORY DEPARTMENT BUREAU                        ADDRESS  \\\n",
       "0            COMPLAINT      CONSERVATION                  722 E 89TH ST   \n",
       "1             PERIODIC      CONSERVATION  6444 S DR MARTIN L KING JR DR   \n",
       "2            COMPLAINT      CONSERVATION              3115 N SAWYER AVE   \n",
       "\n",
       "  PROPERTY GROUP  SSA   LATITUDE  LONGITUDE  \\\n",
       "0         461523   51  41.733089 -87.606184   \n",
       "1          19575  NaN  41.777088 -87.615694   \n",
       "2         117375  NaN  41.937995 -87.708657   \n",
       "\n",
       "                                 LOCATION  \n",
       "0  (41.73308939713441,-87.60618433527188)  \n",
       "1  (41.77708792596553,-87.61569442972947)  \n",
       "2  (41.93799454179893,-87.70865671096144)  \n",
       "\n",
       "[3 rows x 23 columns]"
      ]
     },
     "execution_count": 3,
     "metadata": {},
     "output_type": "execute_result"
    }
   ],
   "source": [
    "df.head(3)"
   ]
  },
  {
   "cell_type": "code",
   "execution_count": 4,
   "metadata": {
    "collapsed": false
   },
   "outputs": [
    {
     "data": {
      "text/html": [
       "<div style=\"max-height:1000px;max-width:1500px;overflow:auto;\">\n",
       "<table border=\"1\" class=\"dataframe\">\n",
       "  <thead>\n",
       "    <tr style=\"text-align: right;\">\n",
       "      <th></th>\n",
       "      <th>Unnamed: 0</th>\n",
       "      <th>ID</th>\n",
       "      <th>VIOLATION LAST MODIFIED DATE</th>\n",
       "      <th>VIOLATION DATE</th>\n",
       "      <th>VIOLATION CODE</th>\n",
       "      <th>VIOLATION STATUS</th>\n",
       "      <th>VIOLATION STATUS DATE</th>\n",
       "      <th>VIOLATION DESCRIPTION</th>\n",
       "      <th>VIOLATION LOCATION</th>\n",
       "      <th>VIOLATION INSPECTOR COMMENTS</th>\n",
       "      <th>...</th>\n",
       "      <th>INSPECTION STATUS</th>\n",
       "      <th>INSPECTION WAIVED</th>\n",
       "      <th>INSPECTION CATEGORY</th>\n",
       "      <th>DEPARTMENT BUREAU</th>\n",
       "      <th>ADDRESS</th>\n",
       "      <th>PROPERTY GROUP</th>\n",
       "      <th>SSA</th>\n",
       "      <th>LATITUDE</th>\n",
       "      <th>LONGITUDE</th>\n",
       "      <th>LOCATION</th>\n",
       "    </tr>\n",
       "  </thead>\n",
       "  <tbody>\n",
       "    <tr>\n",
       "      <th>49995</th>\n",
       "      <td> 49995</td>\n",
       "      <td> 1438713</td>\n",
       "      <td> 06/16/2006</td>\n",
       "      <td> 01/01/2006</td>\n",
       "      <td> CN063014</td>\n",
       "      <td>     OPEN</td>\n",
       "      <td>        NaN</td>\n",
       "      <td>                    CHIMNEY</td>\n",
       "      <td> NaN</td>\n",
       "      <td>           CHIMNEY WASHED OUT MORTAR LOOSE BRICKS.</td>\n",
       "      <td>...</td>\n",
       "      <td> FAILED</td>\n",
       "      <td> N</td>\n",
       "      <td> PERIODIC</td>\n",
       "      <td> CONSERVATION</td>\n",
       "      <td>     1854 E 79TH ST</td>\n",
       "      <td> 20597</td>\n",
       "      <td>  50</td>\n",
       "      <td> 41.751683</td>\n",
       "      <td>-87.578659</td>\n",
       "      <td>  (41.75168267214598,-87.57865870399478)</td>\n",
       "    </tr>\n",
       "    <tr>\n",
       "      <th>49996</th>\n",
       "      <td> 49996</td>\n",
       "      <td> 1357061</td>\n",
       "      <td> 07/17/2006</td>\n",
       "      <td> 01/01/2006</td>\n",
       "      <td> CN070024</td>\n",
       "      <td>     OPEN</td>\n",
       "      <td>        NaN</td>\n",
       "      <td>        REPAIR PORCH SYSTEM</td>\n",
       "      <td> NaN</td>\n",
       "      <td> 35 REAR PORCH GRADE TO 3RD RAILS TOO SHORT, MI...</td>\n",
       "      <td>...</td>\n",
       "      <td> FAILED</td>\n",
       "      <td> N</td>\n",
       "      <td> PERIODIC</td>\n",
       "      <td> CONSERVATION</td>\n",
       "      <td>     31 N LOREL AVE</td>\n",
       "      <td>  1612</td>\n",
       "      <td> NaN</td>\n",
       "      <td> 41.881299</td>\n",
       "      <td>-87.758621</td>\n",
       "      <td> (41.881299199557894,-87.75862053499047)</td>\n",
       "    </tr>\n",
       "    <tr>\n",
       "      <th>49997</th>\n",
       "      <td> 49997</td>\n",
       "      <td> 1430847</td>\n",
       "      <td> 10/14/2008</td>\n",
       "      <td> 01/01/2006</td>\n",
       "      <td> CN031013</td>\n",
       "      <td> COMPLIED</td>\n",
       "      <td> 07/10/2008</td>\n",
       "      <td> FIRE EXTNGSHR REQ, RESDNTL</td>\n",
       "      <td> NaN</td>\n",
       "      <td>           ALL ELEVATION MISSING FIRE EXTINGUISHER</td>\n",
       "      <td>...</td>\n",
       "      <td> FAILED</td>\n",
       "      <td> N</td>\n",
       "      <td> PERIODIC</td>\n",
       "      <td> CONSERVATION</td>\n",
       "      <td>    6501 S LOWE AVE</td>\n",
       "      <td> 19693</td>\n",
       "      <td> NaN</td>\n",
       "      <td> 41.776074</td>\n",
       "      <td>-87.640625</td>\n",
       "      <td>   (41.7760739361563,-87.64062455203374)</td>\n",
       "    </tr>\n",
       "    <tr>\n",
       "      <th>49998</th>\n",
       "      <td> 49998</td>\n",
       "      <td> 1734149</td>\n",
       "      <td> 09/16/2008</td>\n",
       "      <td> 01/01/2006</td>\n",
       "      <td> CN135016</td>\n",
       "      <td> COMPLIED</td>\n",
       "      <td> 09/05/2008</td>\n",
       "      <td>               MICE/RODENTS</td>\n",
       "      <td> NaN</td>\n",
       "      <td>                                  MICE ON PREMISES</td>\n",
       "      <td>...</td>\n",
       "      <td> FAILED</td>\n",
       "      <td> N</td>\n",
       "      <td> PERIODIC</td>\n",
       "      <td> CONSERVATION</td>\n",
       "      <td> 4836 S INDIANA AVE</td>\n",
       "      <td> 18261</td>\n",
       "      <td> NaN</td>\n",
       "      <td> 41.806381</td>\n",
       "      <td>-87.621283</td>\n",
       "      <td>  (41.80638088214982,-87.62128295874425)</td>\n",
       "    </tr>\n",
       "    <tr>\n",
       "      <th>49999</th>\n",
       "      <td> 49999</td>\n",
       "      <td> 1834762</td>\n",
       "      <td> 01/12/2007</td>\n",
       "      <td> 01/01/2006</td>\n",
       "      <td> CN190019</td>\n",
       "      <td> COMPLIED</td>\n",
       "      <td> 01/11/2007</td>\n",
       "      <td> ARRANGE PREMISE INSPECTION</td>\n",
       "      <td> NaN</td>\n",
       "      <td> NO ENTRY TO INTERIOR TO VERIFY OCCUPANCY AND D...</td>\n",
       "      <td>...</td>\n",
       "      <td> FAILED</td>\n",
       "      <td> N</td>\n",
       "      <td> PERIODIC</td>\n",
       "      <td> CONSERVATION</td>\n",
       "      <td>  200 N KOSTNER AVE</td>\n",
       "      <td>  1531</td>\n",
       "      <td> NaN</td>\n",
       "      <td> 41.883310</td>\n",
       "      <td>-87.735709</td>\n",
       "      <td>  (41.88330951242491,-87.73570901056128)</td>\n",
       "    </tr>\n",
       "  </tbody>\n",
       "</table>\n",
       "<p>5 rows × 23 columns</p>\n",
       "</div>"
      ],
      "text/plain": [
       "       Unnamed: 0       ID VIOLATION LAST MODIFIED DATE VIOLATION DATE  \\\n",
       "49995       49995  1438713                   06/16/2006     01/01/2006   \n",
       "49996       49996  1357061                   07/17/2006     01/01/2006   \n",
       "49997       49997  1430847                   10/14/2008     01/01/2006   \n",
       "49998       49998  1734149                   09/16/2008     01/01/2006   \n",
       "49999       49999  1834762                   01/12/2007     01/01/2006   \n",
       "\n",
       "      VIOLATION CODE VIOLATION STATUS VIOLATION STATUS DATE  \\\n",
       "49995       CN063014             OPEN                   NaN   \n",
       "49996       CN070024             OPEN                   NaN   \n",
       "49997       CN031013         COMPLIED            07/10/2008   \n",
       "49998       CN135016         COMPLIED            09/05/2008   \n",
       "49999       CN190019         COMPLIED            01/11/2007   \n",
       "\n",
       "            VIOLATION DESCRIPTION VIOLATION LOCATION  \\\n",
       "49995                     CHIMNEY                NaN   \n",
       "49996         REPAIR PORCH SYSTEM                NaN   \n",
       "49997  FIRE EXTNGSHR REQ, RESDNTL                NaN   \n",
       "49998                MICE/RODENTS                NaN   \n",
       "49999  ARRANGE PREMISE INSPECTION                NaN   \n",
       "\n",
       "                            VIOLATION INSPECTOR COMMENTS  \\\n",
       "49995            CHIMNEY WASHED OUT MORTAR LOOSE BRICKS.   \n",
       "49996  35 REAR PORCH GRADE TO 3RD RAILS TOO SHORT, MI...   \n",
       "49997            ALL ELEVATION MISSING FIRE EXTINGUISHER   \n",
       "49998                                   MICE ON PREMISES   \n",
       "49999  NO ENTRY TO INTERIOR TO VERIFY OCCUPANCY AND D...   \n",
       "\n",
       "                        ...                    INSPECTION STATUS  \\\n",
       "49995                   ...                               FAILED   \n",
       "49996                   ...                               FAILED   \n",
       "49997                   ...                               FAILED   \n",
       "49998                   ...                               FAILED   \n",
       "49999                   ...                               FAILED   \n",
       "\n",
       "      INSPECTION WAIVED  INSPECTION CATEGORY DEPARTMENT BUREAU  \\\n",
       "49995                 N             PERIODIC      CONSERVATION   \n",
       "49996                 N             PERIODIC      CONSERVATION   \n",
       "49997                 N             PERIODIC      CONSERVATION   \n",
       "49998                 N             PERIODIC      CONSERVATION   \n",
       "49999                 N             PERIODIC      CONSERVATION   \n",
       "\n",
       "                  ADDRESS PROPERTY GROUP  SSA   LATITUDE  LONGITUDE  \\\n",
       "49995      1854 E 79TH ST          20597   50  41.751683 -87.578659   \n",
       "49996      31 N LOREL AVE           1612  NaN  41.881299 -87.758621   \n",
       "49997     6501 S LOWE AVE          19693  NaN  41.776074 -87.640625   \n",
       "49998  4836 S INDIANA AVE          18261  NaN  41.806381 -87.621283   \n",
       "49999   200 N KOSTNER AVE           1531  NaN  41.883310 -87.735709   \n",
       "\n",
       "                                      LOCATION  \n",
       "49995   (41.75168267214598,-87.57865870399478)  \n",
       "49996  (41.881299199557894,-87.75862053499047)  \n",
       "49997    (41.7760739361563,-87.64062455203374)  \n",
       "49998   (41.80638088214982,-87.62128295874425)  \n",
       "49999   (41.88330951242491,-87.73570901056128)  \n",
       "\n",
       "[5 rows x 23 columns]"
      ]
     },
     "execution_count": 4,
     "metadata": {},
     "output_type": "execute_result"
    }
   ],
   "source": [
    "df.tail(5)"
   ]
  },
  {
   "cell_type": "code",
   "execution_count": 6,
   "metadata": {
    "collapsed": false
   },
   "outputs": [],
   "source": [
    "df.drop?"
   ]
  },
  {
   "cell_type": "code",
   "execution_count": 7,
   "metadata": {
    "collapsed": true
   },
   "outputs": [],
   "source": [
    "del df['Unnamed: 0']"
   ]
  },
  {
   "cell_type": "code",
   "execution_count": 8,
   "metadata": {
    "collapsed": false
   },
   "outputs": [
    {
     "data": {
      "text/plain": [
       "ID                                int64\n",
       "VIOLATION LAST MODIFIED DATE     object\n",
       "VIOLATION DATE                   object\n",
       "VIOLATION CODE                   object\n",
       "VIOLATION STATUS                 object\n",
       "VIOLATION STATUS DATE            object\n",
       "VIOLATION DESCRIPTION            object\n",
       "VIOLATION LOCATION               object\n",
       "VIOLATION INSPECTOR COMMENTS     object\n",
       "VIOLATION ORDINANCE              object\n",
       "INSPECTOR ID                     object\n",
       "INSPECTION NUMBER                 int64\n",
       "INSPECTION STATUS                object\n",
       "INSPECTION WAIVED                object\n",
       "INSPECTION CATEGORY              object\n",
       "DEPARTMENT BUREAU                object\n",
       "ADDRESS                          object\n",
       "PROPERTY GROUP                    int64\n",
       "SSA                              object\n",
       "LATITUDE                        float64\n",
       "LONGITUDE                       float64\n",
       "LOCATION                         object\n",
       "dtype: object"
      ]
     },
     "execution_count": 8,
     "metadata": {},
     "output_type": "execute_result"
    }
   ],
   "source": [
    "df.dtypes"
   ]
  },
  {
   "cell_type": "code",
   "execution_count": 11,
   "metadata": {
    "collapsed": false
   },
   "outputs": [
    {
     "data": {
      "text/plain": [
       "Index([u'id', u'violation_last_modified_date', u'violation_date', u'violation_code', u'violation_status', u'violation_status_date', u'violation_description', u'violation_location', u'violation_inspector_comments', u'violation_ordinance', u'inspector_id', u'inspection_number', u'inspection_status', u'inspection_waived', u'inspection_category', u'department_bureau', u'address', u'property_group', u'ssa', u'latitude', u'longitude', u'location'], dtype='object')"
      ]
     },
     "execution_count": 11,
     "metadata": {},
     "output_type": "execute_result"
    }
   ],
   "source": [
    "import re\n",
    "\n",
    "def spaces_to_snake(str_with_spaces):\n",
    "    s = re.sub('\\s+','_',str_with_spaces)\n",
    "    return s.lower()\n",
    "\n",
    "df.columns = [spaces_to_snake(col) for col in df.columns]\n",
    "df.columns"
   ]
  },
  {
   "cell_type": "code",
   "execution_count": 12,
   "metadata": {
    "collapsed": true
   },
   "outputs": [],
   "source": [
    "df.dropna?"
   ]
  },
  {
   "cell_type": "code",
   "execution_count": 17,
   "metadata": {
    "collapsed": false
   },
   "outputs": [
    {
     "data": {
      "text/plain": [
       "False    50000\n",
       "dtype: int64"
      ]
     },
     "execution_count": 17,
     "metadata": {},
     "output_type": "execute_result"
    }
   ],
   "source": [
    "pd.value_counts(df.id.isnull())"
   ]
  },
  {
   "cell_type": "code",
   "execution_count": 19,
   "metadata": {
    "collapsed": false
   },
   "outputs": [
    {
     "data": {
      "text/plain": [
       "id                                  0\n",
       "violation_last_modified_date        0\n",
       "violation_date                      0\n",
       "violation_code                      0\n",
       "violation_status                    0\n",
       "violation_status_date           36488\n",
       "violation_description             376\n",
       "violation_location              32484\n",
       "violation_inspector_comments     5295\n",
       "violation_ordinance              1538\n",
       "inspector_id                        0\n",
       "inspection_number                   0\n",
       "inspection_status                   0\n",
       "inspection_waived                   0\n",
       "inspection_category                 0\n",
       "department_bureau                   0\n",
       "address                             0\n",
       "property_group                      0\n",
       "ssa                             40639\n",
       "latitude                           48\n",
       "longitude                          48\n",
       "location                           48\n",
       "dtype: int64"
      ]
     },
     "execution_count": 19,
     "metadata": {},
     "output_type": "execute_result"
    }
   ],
   "source": [
    "df.isnull().sum(axis=0)"
   ]
  },
  {
   "cell_type": "code",
   "execution_count": 21,
   "metadata": {
    "collapsed": false
   },
   "outputs": [
    {
     "data": {
      "text/plain": [
       "0      51\n",
       "1     NaN\n",
       "2     NaN\n",
       "3     NaN\n",
       "4     NaN\n",
       "5     NaN\n",
       "6     NaN\n",
       "7     NaN\n",
       "8     NaN\n",
       "9     NaN\n",
       "10    NaN\n",
       "11    NaN\n",
       "12    NaN\n",
       "13    NaN\n",
       "14    NaN\n",
       "...\n",
       "49985     26\n",
       "49986     21\n",
       "49987     18\n",
       "49988     48\n",
       "49989    NaN\n",
       "49990    NaN\n",
       "49991    NaN\n",
       "49992    NaN\n",
       "49993    NaN\n",
       "49994     43\n",
       "49995     50\n",
       "49996    NaN\n",
       "49997    NaN\n",
       "49998    NaN\n",
       "49999    NaN\n",
       "Name: ssa, Length: 50000, dtype: object"
      ]
     },
     "execution_count": 21,
     "metadata": {},
     "output_type": "execute_result"
    }
   ],
   "source": [
    "df.ssa"
   ]
  },
  {
   "cell_type": "code",
   "execution_count": 24,
   "metadata": {
    "collapsed": false
   },
   "outputs": [],
   "source": [
    "df.violation_inspector_comments = df.violation_inspector_comments.fillna('No Comment')"
   ]
  },
  {
   "cell_type": "code",
   "execution_count": 25,
   "metadata": {
    "collapsed": false
   },
   "outputs": [
    {
     "data": {
      "text/plain": [
       "id                                  0\n",
       "violation_last_modified_date        0\n",
       "violation_date                      0\n",
       "violation_code                      0\n",
       "violation_status                    0\n",
       "violation_status_date           36488\n",
       "violation_description             376\n",
       "violation_location              32484\n",
       "violation_inspector_comments        0\n",
       "violation_ordinance              1538\n",
       "inspector_id                        0\n",
       "inspection_number                   0\n",
       "inspection_status                   0\n",
       "inspection_waived                   0\n",
       "inspection_category                 0\n",
       "department_bureau                   0\n",
       "address                             0\n",
       "property_group                      0\n",
       "ssa                             40639\n",
       "latitude                           48\n",
       "longitude                          48\n",
       "location                           48\n",
       "dtype: int64"
      ]
     },
     "execution_count": 25,
     "metadata": {},
     "output_type": "execute_result"
    }
   ],
   "source": [
    "df.isnull().sum(axis=0)"
   ]
  },
  {
   "cell_type": "code",
   "execution_count": 26,
   "metadata": {
    "collapsed": false,
    "scrolled": true
   },
   "outputs": [
    {
     "data": {
      "text/html": [
       "<div style=\"max-height:1000px;max-width:1500px;overflow:auto;\">\n",
       "<table border=\"1\" class=\"dataframe\">\n",
       "  <thead>\n",
       "    <tr style=\"text-align: right;\">\n",
       "      <th></th>\n",
       "      <th>id</th>\n",
       "      <th>violation_last_modified_date</th>\n",
       "      <th>violation_date</th>\n",
       "      <th>violation_code</th>\n",
       "      <th>violation_status</th>\n",
       "      <th>violation_status_date</th>\n",
       "      <th>violation_description</th>\n",
       "      <th>violation_location</th>\n",
       "      <th>violation_inspector_comments</th>\n",
       "      <th>violation_ordinance</th>\n",
       "      <th>...</th>\n",
       "      <th>inspection_status</th>\n",
       "      <th>inspection_waived</th>\n",
       "      <th>inspection_category</th>\n",
       "      <th>department_bureau</th>\n",
       "      <th>address</th>\n",
       "      <th>property_group</th>\n",
       "      <th>ssa</th>\n",
       "      <th>latitude</th>\n",
       "      <th>longitude</th>\n",
       "      <th>location</th>\n",
       "    </tr>\n",
       "  </thead>\n",
       "  <tbody>\n",
       "    <tr>\n",
       "      <th>0</th>\n",
       "      <td> 5063843</td>\n",
       "      <td> 05/21/2015</td>\n",
       "      <td> 05/21/2015</td>\n",
       "      <td> CN065014</td>\n",
       "      <td> OPEN</td>\n",
       "      <td> NaN</td>\n",
       "      <td>                 REPAIR LINTELS</td>\n",
       "      <td>                OTHER   :    :</td>\n",
       "      <td>                                  LINTELS; RUSTED.</td>\n",
       "      <td> Failed to maintain lintel in good repair and f...</td>\n",
       "      <td>...</td>\n",
       "      <td> FAILED</td>\n",
       "      <td> N</td>\n",
       "      <td> COMPLAINT</td>\n",
       "      <td> CONSERVATION</td>\n",
       "      <td>                 722 E 89TH ST</td>\n",
       "      <td> 461523</td>\n",
       "      <td>  51</td>\n",
       "      <td> 41.733089</td>\n",
       "      <td>-87.606184</td>\n",
       "      <td>  (41.73308939713441,-87.60618433527188)</td>\n",
       "    </tr>\n",
       "    <tr>\n",
       "      <th>1</th>\n",
       "      <td> 5063990</td>\n",
       "      <td> 05/21/2015</td>\n",
       "      <td> 05/21/2015</td>\n",
       "      <td> CN044013</td>\n",
       "      <td> OPEN</td>\n",
       "      <td> NaN</td>\n",
       "      <td> PIPE OPENING W/NONCOMBUST MATL</td>\n",
       "      <td> OTHER   :    :MULTIPLE FLOORS</td>\n",
       "      <td> OPENINGS AROUND PIPES, SEAL WITH APPROVED MATE...</td>\n",
       "      <td> Failed to fill openings around exposed pipes o...</td>\n",
       "      <td>...</td>\n",
       "      <td> FAILED</td>\n",
       "      <td> N</td>\n",
       "      <td>  PERIODIC</td>\n",
       "      <td> CONSERVATION</td>\n",
       "      <td> 6444 S DR MARTIN L KING JR DR</td>\n",
       "      <td>  19575</td>\n",
       "      <td> NaN</td>\n",
       "      <td> 41.777088</td>\n",
       "      <td>-87.615694</td>\n",
       "      <td>  (41.77708792596553,-87.61569442972947)</td>\n",
       "    </tr>\n",
       "    <tr>\n",
       "      <th>2</th>\n",
       "      <td> 5064022</td>\n",
       "      <td> 05/21/2015</td>\n",
       "      <td> 05/21/2015</td>\n",
       "      <td> CN104035</td>\n",
       "      <td> OPEN</td>\n",
       "      <td> NaN</td>\n",
       "      <td>                MAINTAIN WINDOW</td>\n",
       "      <td>                OTHER   :    :</td>\n",
       "      <td> ALL ELEVATIONS , WOOD WINDOW FRAMES  AND NORTH...</td>\n",
       "      <td> Failed to maintain windows in sound condition ...</td>\n",
       "      <td>...</td>\n",
       "      <td> FAILED</td>\n",
       "      <td> N</td>\n",
       "      <td> COMPLAINT</td>\n",
       "      <td> CONSERVATION</td>\n",
       "      <td>             3115 N SAWYER AVE</td>\n",
       "      <td> 117375</td>\n",
       "      <td> NaN</td>\n",
       "      <td> 41.937995</td>\n",
       "      <td>-87.708657</td>\n",
       "      <td>  (41.93799454179893,-87.70865671096144)</td>\n",
       "    </tr>\n",
       "    <tr>\n",
       "      <th>3</th>\n",
       "      <td> 5064019</td>\n",
       "      <td> 05/21/2015</td>\n",
       "      <td> 05/21/2015</td>\n",
       "      <td> CN196029</td>\n",
       "      <td> OPEN</td>\n",
       "      <td> NaN</td>\n",
       "      <td>     POST OWNER/MANAGERS NAME/#</td>\n",
       "      <td>                OTHER   :    :</td>\n",
       "      <td>          BUILDING - NO OWNER'S I.D. SIGN POSTED .</td>\n",
       "      <td> Post name, address, and telephone of owner, ow...</td>\n",
       "      <td>...</td>\n",
       "      <td> FAILED</td>\n",
       "      <td> N</td>\n",
       "      <td> COMPLAINT</td>\n",
       "      <td> CONSERVATION</td>\n",
       "      <td>             3115 N SAWYER AVE</td>\n",
       "      <td> 117375</td>\n",
       "      <td> NaN</td>\n",
       "      <td> 41.937995</td>\n",
       "      <td>-87.708657</td>\n",
       "      <td>  (41.93799454179893,-87.70865671096144)</td>\n",
       "    </tr>\n",
       "    <tr>\n",
       "      <th>4</th>\n",
       "      <td> 5064139</td>\n",
       "      <td> 05/21/2015</td>\n",
       "      <td> 05/21/2015</td>\n",
       "      <td> CN104015</td>\n",
       "      <td> OPEN</td>\n",
       "      <td> NaN</td>\n",
       "      <td>  REPLCE WINDOW PANES, PLEXGLAS</td>\n",
       "      <td>                OTHER   :    :</td>\n",
       "      <td> NORTH ELEVATION / 1ST FLOOR - BROKEN WINDOW PANE.</td>\n",
       "      <td> Replace broken, missing or defective window pa...</td>\n",
       "      <td>...</td>\n",
       "      <td> FAILED</td>\n",
       "      <td> N</td>\n",
       "      <td> COMPLAINT</td>\n",
       "      <td> CONSERVATION</td>\n",
       "      <td>            5649 S INDIANA AVE</td>\n",
       "      <td> 344254</td>\n",
       "      <td> NaN</td>\n",
       "      <td> 41.791470</td>\n",
       "      <td>-87.620616</td>\n",
       "      <td> (41.791469839262206,-87.62061589476306)</td>\n",
       "    </tr>\n",
       "  </tbody>\n",
       "</table>\n",
       "<p>5 rows × 22 columns</p>\n",
       "</div>"
      ],
      "text/plain": [
       "        id violation_last_modified_date violation_date violation_code  \\\n",
       "0  5063843                   05/21/2015     05/21/2015       CN065014   \n",
       "1  5063990                   05/21/2015     05/21/2015       CN044013   \n",
       "2  5064022                   05/21/2015     05/21/2015       CN104035   \n",
       "3  5064019                   05/21/2015     05/21/2015       CN196029   \n",
       "4  5064139                   05/21/2015     05/21/2015       CN104015   \n",
       "\n",
       "  violation_status violation_status_date           violation_description  \\\n",
       "0             OPEN                   NaN                  REPAIR LINTELS   \n",
       "1             OPEN                   NaN  PIPE OPENING W/NONCOMBUST MATL   \n",
       "2             OPEN                   NaN                 MAINTAIN WINDOW   \n",
       "3             OPEN                   NaN      POST OWNER/MANAGERS NAME/#   \n",
       "4             OPEN                   NaN   REPLCE WINDOW PANES, PLEXGLAS   \n",
       "\n",
       "              violation_location  \\\n",
       "0                 OTHER   :    :   \n",
       "1  OTHER   :    :MULTIPLE FLOORS   \n",
       "2                 OTHER   :    :   \n",
       "3                 OTHER   :    :   \n",
       "4                 OTHER   :    :   \n",
       "\n",
       "                        violation_inspector_comments  \\\n",
       "0                                   LINTELS; RUSTED.   \n",
       "1  OPENINGS AROUND PIPES, SEAL WITH APPROVED MATE...   \n",
       "2  ALL ELEVATIONS , WOOD WINDOW FRAMES  AND NORTH...   \n",
       "3           BUILDING - NO OWNER'S I.D. SIGN POSTED .   \n",
       "4  NORTH ELEVATION / 1ST FLOOR - BROKEN WINDOW PANE.   \n",
       "\n",
       "                                 violation_ordinance  \\\n",
       "0  Failed to maintain lintel in good repair and f...   \n",
       "1  Failed to fill openings around exposed pipes o...   \n",
       "2  Failed to maintain windows in sound condition ...   \n",
       "3  Post name, address, and telephone of owner, ow...   \n",
       "4  Replace broken, missing or defective window pa...   \n",
       "\n",
       "                    ...                    inspection_status  \\\n",
       "0                   ...                               FAILED   \n",
       "1                   ...                               FAILED   \n",
       "2                   ...                               FAILED   \n",
       "3                   ...                               FAILED   \n",
       "4                   ...                               FAILED   \n",
       "\n",
       "   inspection_waived inspection_category department_bureau  \\\n",
       "0                  N           COMPLAINT      CONSERVATION   \n",
       "1                  N            PERIODIC      CONSERVATION   \n",
       "2                  N           COMPLAINT      CONSERVATION   \n",
       "3                  N           COMPLAINT      CONSERVATION   \n",
       "4                  N           COMPLAINT      CONSERVATION   \n",
       "\n",
       "                         address property_group  ssa   latitude  longitude  \\\n",
       "0                  722 E 89TH ST         461523   51  41.733089 -87.606184   \n",
       "1  6444 S DR MARTIN L KING JR DR          19575  NaN  41.777088 -87.615694   \n",
       "2              3115 N SAWYER AVE         117375  NaN  41.937995 -87.708657   \n",
       "3              3115 N SAWYER AVE         117375  NaN  41.937995 -87.708657   \n",
       "4             5649 S INDIANA AVE         344254  NaN  41.791470 -87.620616   \n",
       "\n",
       "                                  location  \n",
       "0   (41.73308939713441,-87.60618433527188)  \n",
       "1   (41.77708792596553,-87.61569442972947)  \n",
       "2   (41.93799454179893,-87.70865671096144)  \n",
       "3   (41.93799454179893,-87.70865671096144)  \n",
       "4  (41.791469839262206,-87.62061589476306)  \n",
       "\n",
       "[5 rows x 22 columns]"
      ]
     },
     "execution_count": 26,
     "metadata": {},
     "output_type": "execute_result"
    }
   ],
   "source": [
    "df.head(5)"
   ]
  },
  {
   "cell_type": "code",
   "execution_count": 27,
   "metadata": {
    "collapsed": true
   },
   "outputs": [],
   "source": [
    "df.violation_date = pd.to_datetime(df.violation_date)"
   ]
  },
  {
   "cell_type": "code",
   "execution_count": 35,
   "metadata": {
    "collapsed": false
   },
   "outputs": [
    {
     "data": {
      "text/plain": [
       "id                                       int64\n",
       "violation_last_modified_date            object\n",
       "violation_date                  datetime64[ns]\n",
       "violation_code                          object\n",
       "violation_status                        object\n",
       "violation_status_date           datetime64[ns]\n",
       "violation_description                   object\n",
       "violation_location                      object\n",
       "violation_inspector_comments            object\n",
       "violation_ordinance                     object\n",
       "inspector_id                            object\n",
       "inspection_number                        int64\n",
       "inspection_status                       object\n",
       "inspection_waived                       object\n",
       "inspection_category                     object\n",
       "department_bureau                       object\n",
       "address                                 object\n",
       "property_group                           int64\n",
       "ssa                                     object\n",
       "latitude                               float64\n",
       "longitude                              float64\n",
       "location                                object\n",
       "dtype: object"
      ]
     },
     "execution_count": 35,
     "metadata": {},
     "output_type": "execute_result"
    }
   ],
   "source": [
    "df.dtypes"
   ]
  },
  {
   "cell_type": "code",
   "execution_count": 29,
   "metadata": {
    "collapsed": true
   },
   "outputs": [],
   "source": [
    "df = df.sort(['violation_date'],)"
   ]
  },
  {
   "cell_type": "code",
   "execution_count": 31,
   "metadata": {
    "collapsed": false
   },
   "outputs": [],
   "source": [
    "df.violation_status_date = pd.to_datetime(df.violation_status_date)"
   ]
  },
  {
   "cell_type": "code",
   "execution_count": 42,
   "metadata": {
    "collapsed": true
   },
   "outputs": [],
   "source": [
    "df.violation_last_modified_date = pd.to_datetime(df.violation_last_modified_date)"
   ]
  },
  {
   "cell_type": "code",
   "execution_count": 37,
   "metadata": {
    "collapsed": false
   },
   "outputs": [
    {
     "data": {
      "text/plain": [
       "count                   50000\n",
       "unique                   2621\n",
       "top       2006-03-10 00:00:00\n",
       "freq                       66\n",
       "first     2006-01-01 00:00:00\n",
       "last      2015-05-21 00:00:00\n",
       "Name: violation_date, dtype: object"
      ]
     },
     "execution_count": 37,
     "metadata": {},
     "output_type": "execute_result"
    }
   ],
   "source": [
    "df.violation_date.describe()"
   ]
  },
  {
   "cell_type": "code",
   "execution_count": 38,
   "metadata": {
    "collapsed": true
   },
   "outputs": [],
   "source": [
    "df.datediff = df.violation_status_date - df.violation_date"
   ]
  },
  {
   "cell_type": "code",
   "execution_count": 39,
   "metadata": {
    "collapsed": false
   },
   "outputs": [
    {
     "data": {
      "text/plain": [
       "count                       13512\n",
       "mean     -6 days +17:23:23.743984\n",
       "std      516 days 05:32:37.344925\n",
       "min               0 days 00:00:00\n",
       "25%             150 days 00:00:00\n",
       "50%             272 days 00:00:00\n",
       "75%             586 days 00:00:00\n",
       "max            3328 days 00:00:00\n",
       "dtype: object"
      ]
     },
     "execution_count": 39,
     "metadata": {},
     "output_type": "execute_result"
    }
   ],
   "source": [
    "df.datediff.describe()"
   ]
  },
  {
   "cell_type": "code",
   "execution_count": 41,
   "metadata": {
    "collapsed": false
   },
   "outputs": [
    {
     "data": {
      "text/plain": [
       "49999    375 days\n",
       "49990   1166 days\n",
       "49991   1409 days\n",
       "49992    528 days\n",
       "49993   1409 days\n",
       "49998    978 days\n",
       "49995         NaT\n",
       "49996         NaT\n",
       "49997    921 days\n",
       "49994   2126 days\n",
       "49961         NaT\n",
       "49960     53 days\n",
       "49959         NaT\n",
       "49958    291 days\n",
       "49957         NaT\n",
       "...\n",
       "20   NaT\n",
       "21   NaT\n",
       "17   NaT\n",
       "1    NaT\n",
       "2    NaT\n",
       "3    NaT\n",
       "4    NaT\n",
       "5    NaT\n",
       "7    NaT\n",
       "8    NaT\n",
       "9    NaT\n",
       "10   NaT\n",
       "11   NaT\n",
       "6    NaT\n",
       "0    NaT\n",
       "Length: 50000, dtype: timedelta64[ns]"
      ]
     },
     "execution_count": 41,
     "metadata": {},
     "output_type": "execute_result"
    }
   ],
   "source": [
    "df.datediff"
   ]
  },
  {
   "cell_type": "code",
   "execution_count": 46,
   "metadata": {
    "collapsed": false
   },
   "outputs": [
    {
     "ename": "KeyError",
     "evalue": "'violation_last_modified_dateviolation_date'",
     "output_type": "error",
     "traceback": [
      "\u001b[0;31m---------------------------------------------------------------------------\u001b[0m",
      "\u001b[0;31mKeyError\u001b[0m                                  Traceback (most recent call last)",
      "\u001b[0;32m<ipython-input-46-9d1719a8451e>\u001b[0m in \u001b[0;36m<module>\u001b[0;34m()\u001b[0m\n\u001b[0;32m----> 1\u001b[0;31m \u001b[0mdf\u001b[0m\u001b[0;34m[\u001b[0m\u001b[0;34m'violation_last_modified_date'\u001b[0m \u001b[0;34m'violation_date'\u001b[0m\u001b[0;34m]\u001b[0m\u001b[0;34m\u001b[0m\u001b[0m\n\u001b[0m",
      "\u001b[0;32m/Users/michael/anaconda/lib/python2.7/site-packages/pandas/core/frame.pyc\u001b[0m in \u001b[0;36m__getitem__\u001b[0;34m(self, key)\u001b[0m\n\u001b[1;32m   1778\u001b[0m             \u001b[0;32mreturn\u001b[0m \u001b[0mself\u001b[0m\u001b[0;34m.\u001b[0m\u001b[0m_getitem_multilevel\u001b[0m\u001b[0;34m(\u001b[0m\u001b[0mkey\u001b[0m\u001b[0;34m)\u001b[0m\u001b[0;34m\u001b[0m\u001b[0m\n\u001b[1;32m   1779\u001b[0m         \u001b[0;32melse\u001b[0m\u001b[0;34m:\u001b[0m\u001b[0;34m\u001b[0m\u001b[0m\n\u001b[0;32m-> 1780\u001b[0;31m             \u001b[0;32mreturn\u001b[0m \u001b[0mself\u001b[0m\u001b[0;34m.\u001b[0m\u001b[0m_getitem_column\u001b[0m\u001b[0;34m(\u001b[0m\u001b[0mkey\u001b[0m\u001b[0;34m)\u001b[0m\u001b[0;34m\u001b[0m\u001b[0m\n\u001b[0m\u001b[1;32m   1781\u001b[0m \u001b[0;34m\u001b[0m\u001b[0m\n\u001b[1;32m   1782\u001b[0m     \u001b[0;32mdef\u001b[0m \u001b[0m_getitem_column\u001b[0m\u001b[0;34m(\u001b[0m\u001b[0mself\u001b[0m\u001b[0;34m,\u001b[0m \u001b[0mkey\u001b[0m\u001b[0;34m)\u001b[0m\u001b[0;34m:\u001b[0m\u001b[0;34m\u001b[0m\u001b[0m\n",
      "\u001b[0;32m/Users/michael/anaconda/lib/python2.7/site-packages/pandas/core/frame.pyc\u001b[0m in \u001b[0;36m_getitem_column\u001b[0;34m(self, key)\u001b[0m\n\u001b[1;32m   1785\u001b[0m         \u001b[0;31m# get column\u001b[0m\u001b[0;34m\u001b[0m\u001b[0;34m\u001b[0m\u001b[0m\n\u001b[1;32m   1786\u001b[0m         \u001b[0;32mif\u001b[0m \u001b[0mself\u001b[0m\u001b[0;34m.\u001b[0m\u001b[0mcolumns\u001b[0m\u001b[0;34m.\u001b[0m\u001b[0mis_unique\u001b[0m\u001b[0;34m:\u001b[0m\u001b[0;34m\u001b[0m\u001b[0m\n\u001b[0;32m-> 1787\u001b[0;31m             \u001b[0;32mreturn\u001b[0m \u001b[0mself\u001b[0m\u001b[0;34m.\u001b[0m\u001b[0m_get_item_cache\u001b[0m\u001b[0;34m(\u001b[0m\u001b[0mkey\u001b[0m\u001b[0;34m)\u001b[0m\u001b[0;34m\u001b[0m\u001b[0m\n\u001b[0m\u001b[1;32m   1788\u001b[0m \u001b[0;34m\u001b[0m\u001b[0m\n\u001b[1;32m   1789\u001b[0m         \u001b[0;31m# duplicate columns & possible reduce dimensionaility\u001b[0m\u001b[0;34m\u001b[0m\u001b[0;34m\u001b[0m\u001b[0m\n",
      "\u001b[0;32m/Users/michael/anaconda/lib/python2.7/site-packages/pandas/core/generic.pyc\u001b[0m in \u001b[0;36m_get_item_cache\u001b[0;34m(self, item)\u001b[0m\n\u001b[1;32m   1066\u001b[0m         \u001b[0mres\u001b[0m \u001b[0;34m=\u001b[0m \u001b[0mcache\u001b[0m\u001b[0;34m.\u001b[0m\u001b[0mget\u001b[0m\u001b[0;34m(\u001b[0m\u001b[0mitem\u001b[0m\u001b[0;34m)\u001b[0m\u001b[0;34m\u001b[0m\u001b[0m\n\u001b[1;32m   1067\u001b[0m         \u001b[0;32mif\u001b[0m \u001b[0mres\u001b[0m \u001b[0;32mis\u001b[0m \u001b[0mNone\u001b[0m\u001b[0;34m:\u001b[0m\u001b[0;34m\u001b[0m\u001b[0m\n\u001b[0;32m-> 1068\u001b[0;31m             \u001b[0mvalues\u001b[0m \u001b[0;34m=\u001b[0m \u001b[0mself\u001b[0m\u001b[0;34m.\u001b[0m\u001b[0m_data\u001b[0m\u001b[0;34m.\u001b[0m\u001b[0mget\u001b[0m\u001b[0;34m(\u001b[0m\u001b[0mitem\u001b[0m\u001b[0;34m)\u001b[0m\u001b[0;34m\u001b[0m\u001b[0m\n\u001b[0m\u001b[1;32m   1069\u001b[0m             \u001b[0mres\u001b[0m \u001b[0;34m=\u001b[0m \u001b[0mself\u001b[0m\u001b[0;34m.\u001b[0m\u001b[0m_box_item_values\u001b[0m\u001b[0;34m(\u001b[0m\u001b[0mitem\u001b[0m\u001b[0;34m,\u001b[0m \u001b[0mvalues\u001b[0m\u001b[0;34m)\u001b[0m\u001b[0;34m\u001b[0m\u001b[0m\n\u001b[1;32m   1070\u001b[0m             \u001b[0mcache\u001b[0m\u001b[0;34m[\u001b[0m\u001b[0mitem\u001b[0m\u001b[0;34m]\u001b[0m \u001b[0;34m=\u001b[0m \u001b[0mres\u001b[0m\u001b[0;34m\u001b[0m\u001b[0m\n",
      "\u001b[0;32m/Users/michael/anaconda/lib/python2.7/site-packages/pandas/core/internals.pyc\u001b[0m in \u001b[0;36mget\u001b[0;34m(self, item, fastpath)\u001b[0m\n\u001b[1;32m   2847\u001b[0m \u001b[0;34m\u001b[0m\u001b[0m\n\u001b[1;32m   2848\u001b[0m             \u001b[0;32mif\u001b[0m \u001b[0;32mnot\u001b[0m \u001b[0misnull\u001b[0m\u001b[0;34m(\u001b[0m\u001b[0mitem\u001b[0m\u001b[0;34m)\u001b[0m\u001b[0;34m:\u001b[0m\u001b[0;34m\u001b[0m\u001b[0m\n\u001b[0;32m-> 2849\u001b[0;31m                 \u001b[0mloc\u001b[0m \u001b[0;34m=\u001b[0m \u001b[0mself\u001b[0m\u001b[0;34m.\u001b[0m\u001b[0mitems\u001b[0m\u001b[0;34m.\u001b[0m\u001b[0mget_loc\u001b[0m\u001b[0;34m(\u001b[0m\u001b[0mitem\u001b[0m\u001b[0;34m)\u001b[0m\u001b[0;34m\u001b[0m\u001b[0m\n\u001b[0m\u001b[1;32m   2850\u001b[0m             \u001b[0;32melse\u001b[0m\u001b[0;34m:\u001b[0m\u001b[0;34m\u001b[0m\u001b[0m\n\u001b[1;32m   2851\u001b[0m                 \u001b[0mindexer\u001b[0m \u001b[0;34m=\u001b[0m \u001b[0mnp\u001b[0m\u001b[0;34m.\u001b[0m\u001b[0marange\u001b[0m\u001b[0;34m(\u001b[0m\u001b[0mlen\u001b[0m\u001b[0;34m(\u001b[0m\u001b[0mself\u001b[0m\u001b[0;34m.\u001b[0m\u001b[0mitems\u001b[0m\u001b[0;34m)\u001b[0m\u001b[0;34m)\u001b[0m\u001b[0;34m[\u001b[0m\u001b[0misnull\u001b[0m\u001b[0;34m(\u001b[0m\u001b[0mself\u001b[0m\u001b[0;34m.\u001b[0m\u001b[0mitems\u001b[0m\u001b[0;34m)\u001b[0m\u001b[0;34m]\u001b[0m\u001b[0;34m\u001b[0m\u001b[0m\n",
      "\u001b[0;32m/Users/michael/anaconda/lib/python2.7/site-packages/pandas/core/index.pyc\u001b[0m in \u001b[0;36mget_loc\u001b[0;34m(self, key)\u001b[0m\n\u001b[1;32m   1400\u001b[0m         \u001b[0mloc\u001b[0m \u001b[0;34m:\u001b[0m \u001b[0mint\u001b[0m \u001b[0;32mif\u001b[0m \u001b[0munique\u001b[0m \u001b[0mindex\u001b[0m\u001b[0;34m,\u001b[0m \u001b[0mpossibly\u001b[0m \u001b[0mslice\u001b[0m \u001b[0;32mor\u001b[0m \u001b[0mmask\u001b[0m \u001b[0;32mif\u001b[0m \u001b[0;32mnot\u001b[0m\u001b[0;34m\u001b[0m\u001b[0m\n\u001b[1;32m   1401\u001b[0m         \"\"\"\n\u001b[0;32m-> 1402\u001b[0;31m         \u001b[0;32mreturn\u001b[0m \u001b[0mself\u001b[0m\u001b[0;34m.\u001b[0m\u001b[0m_engine\u001b[0m\u001b[0;34m.\u001b[0m\u001b[0mget_loc\u001b[0m\u001b[0;34m(\u001b[0m\u001b[0m_values_from_object\u001b[0m\u001b[0;34m(\u001b[0m\u001b[0mkey\u001b[0m\u001b[0;34m)\u001b[0m\u001b[0;34m)\u001b[0m\u001b[0;34m\u001b[0m\u001b[0m\n\u001b[0m\u001b[1;32m   1403\u001b[0m \u001b[0;34m\u001b[0m\u001b[0m\n\u001b[1;32m   1404\u001b[0m     \u001b[0;32mdef\u001b[0m \u001b[0mget_value\u001b[0m\u001b[0;34m(\u001b[0m\u001b[0mself\u001b[0m\u001b[0;34m,\u001b[0m \u001b[0mseries\u001b[0m\u001b[0;34m,\u001b[0m \u001b[0mkey\u001b[0m\u001b[0;34m)\u001b[0m\u001b[0;34m:\u001b[0m\u001b[0;34m\u001b[0m\u001b[0m\n",
      "\u001b[0;32mpandas/index.pyx\u001b[0m in \u001b[0;36mpandas.index.IndexEngine.get_loc (pandas/index.c:3820)\u001b[0;34m()\u001b[0m\n",
      "\u001b[0;32mpandas/index.pyx\u001b[0m in \u001b[0;36mpandas.index.IndexEngine.get_loc (pandas/index.c:3700)\u001b[0;34m()\u001b[0m\n",
      "\u001b[0;32mpandas/hashtable.pyx\u001b[0m in \u001b[0;36mpandas.hashtable.PyObjectHashTable.get_item (pandas/hashtable.c:12323)\u001b[0;34m()\u001b[0m\n",
      "\u001b[0;32mpandas/hashtable.pyx\u001b[0m in \u001b[0;36mpandas.hashtable.PyObjectHashTable.get_item (pandas/hashtable.c:12274)\u001b[0;34m()\u001b[0m\n",
      "\u001b[0;31mKeyError\u001b[0m: 'violation_last_modified_dateviolation_date'"
     ]
    }
   ],
   "source": [
    "df['violation_last_modified_date' 'violation_date']"
   ]
  },
  {
   "cell_type": "code",
   "execution_count": null,
   "metadata": {
    "collapsed": true
   },
   "outputs": [],
   "source": []
  }
 ],
 "metadata": {
  "kernelspec": {
   "display_name": "Python 2",
   "language": "python",
   "name": "python2"
  },
  "language_info": {
   "codemirror_mode": {
    "name": "ipython",
    "version": 2
   },
   "file_extension": ".py",
   "mimetype": "text/x-python",
   "name": "python",
   "nbconvert_exporter": "python",
   "pygments_lexer": "ipython2",
   "version": "2.7.9"
  }
 },
 "nbformat": 4,
 "nbformat_minor": 0
}
