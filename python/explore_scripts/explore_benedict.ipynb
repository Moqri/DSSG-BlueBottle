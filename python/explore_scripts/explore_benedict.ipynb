{
 "cells": [
  {
   "cell_type": "markdown",
   "metadata": {},
   "source": [
    "#Some initial data exploration"
   ]
  },
  {
   "cell_type": "code",
   "execution_count": 48,
   "metadata": {
    "collapsed": true
   },
   "outputs": [],
   "source": [
    "import pandas as pd\n",
    "import numpy as np\n",
    "import pprint as pp"
   ]
  },
  {
   "cell_type": "code",
   "execution_count": 165,
   "metadata": {
    "collapsed": false
   },
   "outputs": [],
   "source": [
    "df_violations = pd.read_csv('/home/bene/Documents/DSSG/DSSG-BlueBottle/data/Building_Violations.csv', nrows=10000)"
   ]
  },
  {
   "cell_type": "code",
   "execution_count": 166,
   "metadata": {
    "collapsed": false
   },
   "outputs": [
    {
     "name": "stderr",
     "output_type": "stream",
     "text": [
      "/home/bene/anaconda/lib/python2.7/site-packages/pandas/io/parsers.py:1159: DtypeWarning: Columns (1,91,92,98,99) have mixed types. Specify dtype option on import or set low_memory=False.\n",
      "  data = self._reader.read(nrows)\n"
     ]
    }
   ],
   "source": [
    "df_permits = pd.read_csv('/home/bene/Documents/DSSG/DSSG-BlueBottle/data/Building_Permits.csv', nrows=10000)"
   ]
  },
  {
   "cell_type": "code",
   "execution_count": 167,
   "metadata": {
    "collapsed": false
   },
   "outputs": [],
   "source": [
    "df_permits.columns = [x.replace(' ','').lower() for x in df_permits.columns]\n",
    "df_violations.columns = [x.replace(' ','_').lower() for x in df_violations.columns]"
   ]
  },
  {
   "cell_type": "code",
   "execution_count": 291,
   "metadata": {
    "collapsed": false
   },
   "outputs": [],
   "source": [
    "dumms = pd.get_dummies(df_violations.inspection_status)"
   ]
  },
  {
   "cell_type": "code",
   "execution_count": 305,
   "metadata": {
    "collapsed": false
   },
   "outputs": [
    {
     "data": {
      "text/html": [
       "<div style=\"max-height:1000px;max-width:1500px;overflow:auto;\">\n",
       "<table border=\"1\" class=\"dataframe\">\n",
       "  <thead>\n",
       "    <tr style=\"text-align: right;\">\n",
       "      <th></th>\n",
       "      <th>id</th>\n",
       "      <th>violation_last_modified_date</th>\n",
       "      <th>violation_date</th>\n",
       "      <th>violation_code</th>\n",
       "      <th>violation_status</th>\n",
       "      <th>violation_status_date</th>\n",
       "      <th>violation_description</th>\n",
       "      <th>violation_location</th>\n",
       "      <th>violation_inspector_comments</th>\n",
       "      <th>violation_ordinance</th>\n",
       "      <th>...</th>\n",
       "      <th>property_group</th>\n",
       "      <th>ssa</th>\n",
       "      <th>latitude</th>\n",
       "      <th>longitude</th>\n",
       "      <th>location</th>\n",
       "      <th>failed</th>\n",
       "      <th>inspection_failed</th>\n",
       "      <th>CLOSED</th>\n",
       "      <th>FAILED</th>\n",
       "      <th>PASSED</th>\n",
       "    </tr>\n",
       "  </thead>\n",
       "  <tbody>\n",
       "    <tr>\n",
       "      <th>0</th>\n",
       "      <td> 5065089</td>\n",
       "      <td> 05/22/2015</td>\n",
       "      <td> 05/22/2015</td>\n",
       "      <td> CN138066</td>\n",
       "      <td> OPEN</td>\n",
       "      <td> NaN</td>\n",
       "      <td>                 DEMO DEBRIS</td>\n",
       "      <td> OTHER   :    :</td>\n",
       "      <td> BASEMENT - EXCESSIVE DEBRIS AND STORAGE IN BAS...</td>\n",
       "      <td>       Remove debris from demolition. (13-124-110)</td>\n",
       "      <td>...</td>\n",
       "      <td> 535897</td>\n",
       "      <td>NaN</td>\n",
       "      <td> 41.674855</td>\n",
       "      <td>-87.624827</td>\n",
       "      <td> (41.67485479348155,-87.62482702711588)</td>\n",
       "      <td> False</td>\n",
       "      <td> True</td>\n",
       "      <td> 0</td>\n",
       "      <td> 1</td>\n",
       "      <td> 0</td>\n",
       "    </tr>\n",
       "    <tr>\n",
       "      <th>1</th>\n",
       "      <td> 5065893</td>\n",
       "      <td> 05/22/2015</td>\n",
       "      <td> 05/22/2015</td>\n",
       "      <td>   IR0002</td>\n",
       "      <td> OPEN</td>\n",
       "      <td> NaN</td>\n",
       "      <td>            D&amp;H CANOPY FACIA</td>\n",
       "      <td> OTHER   :    :</td>\n",
       "      <td> SOUTH CANOPY [ROOF]; ROTTED AND PULLING AWAY F...</td>\n",
       "      <td> Repair or replace dangerous and hazardous cano...</td>\n",
       "      <td>...</td>\n",
       "      <td> 498843</td>\n",
       "      <td>NaN</td>\n",
       "      <td> 41.703233</td>\n",
       "      <td>-87.618680</td>\n",
       "      <td>  (41.70323290245266,-87.6186804543344)</td>\n",
       "      <td> False</td>\n",
       "      <td> True</td>\n",
       "      <td> 0</td>\n",
       "      <td> 1</td>\n",
       "      <td> 0</td>\n",
       "    </tr>\n",
       "    <tr>\n",
       "      <th>2</th>\n",
       "      <td> 5065845</td>\n",
       "      <td> 05/22/2015</td>\n",
       "      <td> 05/22/2015</td>\n",
       "      <td> CN073014</td>\n",
       "      <td> OPEN</td>\n",
       "      <td> NaN</td>\n",
       "      <td>        REPAIR EXTERIOR DOOR</td>\n",
       "      <td> OTHER   :    :</td>\n",
       "      <td>                        WEST ENTRY  DOORS - RUSTED</td>\n",
       "      <td> Failed to maintain exterior door in sound cond...</td>\n",
       "      <td>...</td>\n",
       "      <td>  54091</td>\n",
       "      <td>NaN</td>\n",
       "      <td> 41.899175</td>\n",
       "      <td>-87.750656</td>\n",
       "      <td> (41.89917481674128,-87.75065575722276)</td>\n",
       "      <td> False</td>\n",
       "      <td> True</td>\n",
       "      <td> 0</td>\n",
       "      <td> 1</td>\n",
       "      <td> 0</td>\n",
       "    </tr>\n",
       "    <tr>\n",
       "      <th>3</th>\n",
       "      <td> 5065844</td>\n",
       "      <td> 05/22/2015</td>\n",
       "      <td> 05/22/2015</td>\n",
       "      <td> CN069014</td>\n",
       "      <td> OPEN</td>\n",
       "      <td> NaN</td>\n",
       "      <td> REPAIR DEFECTIVE FOUNDATION</td>\n",
       "      <td> OTHER   :    :</td>\n",
       "      <td> WEST LIMESTONES AT GRADE - WASHED OUT MORTAR A...</td>\n",
       "      <td> Failed to maintain foundation in sound conditi...</td>\n",
       "      <td>...</td>\n",
       "      <td>  54091</td>\n",
       "      <td>NaN</td>\n",
       "      <td> 41.899175</td>\n",
       "      <td>-87.750656</td>\n",
       "      <td> (41.89917481674128,-87.75065575722276)</td>\n",
       "      <td> False</td>\n",
       "      <td> True</td>\n",
       "      <td> 0</td>\n",
       "      <td> 1</td>\n",
       "      <td> 0</td>\n",
       "    </tr>\n",
       "    <tr>\n",
       "      <th>4</th>\n",
       "      <td> 5065850</td>\n",
       "      <td> 05/22/2015</td>\n",
       "      <td> 05/22/2015</td>\n",
       "      <td> CN070024</td>\n",
       "      <td> OPEN</td>\n",
       "      <td> NaN</td>\n",
       "      <td>         REPAIR PORCH SYSTEM</td>\n",
       "      <td> OTHER   :    :</td>\n",
       "      <td> REAR TWO STORY WOOD PORCH: GUARDRAILS ARE ONLY...</td>\n",
       "      <td> Failed to repair or replace defective or missi...</td>\n",
       "      <td>...</td>\n",
       "      <td>  54091</td>\n",
       "      <td>NaN</td>\n",
       "      <td> 41.899175</td>\n",
       "      <td>-87.750656</td>\n",
       "      <td> (41.89917481674128,-87.75065575722276)</td>\n",
       "      <td> False</td>\n",
       "      <td> True</td>\n",
       "      <td> 0</td>\n",
       "      <td> 1</td>\n",
       "      <td> 0</td>\n",
       "    </tr>\n",
       "  </tbody>\n",
       "</table>\n",
       "<p>5 rows × 27 columns</p>\n",
       "</div>"
      ],
      "text/plain": [
       "        id violation_last_modified_date violation_date violation_code  \\\n",
       "0  5065089                   05/22/2015     05/22/2015       CN138066   \n",
       "1  5065893                   05/22/2015     05/22/2015         IR0002   \n",
       "2  5065845                   05/22/2015     05/22/2015       CN073014   \n",
       "3  5065844                   05/22/2015     05/22/2015       CN069014   \n",
       "4  5065850                   05/22/2015     05/22/2015       CN070024   \n",
       "\n",
       "  violation_status violation_status_date        violation_description  \\\n",
       "0             OPEN                   NaN                  DEMO DEBRIS   \n",
       "1             OPEN                   NaN             D&H CANOPY FACIA   \n",
       "2             OPEN                   NaN         REPAIR EXTERIOR DOOR   \n",
       "3             OPEN                   NaN  REPAIR DEFECTIVE FOUNDATION   \n",
       "4             OPEN                   NaN          REPAIR PORCH SYSTEM   \n",
       "\n",
       "  violation_location                       violation_inspector_comments  \\\n",
       "0     OTHER   :    :  BASEMENT - EXCESSIVE DEBRIS AND STORAGE IN BAS...   \n",
       "1     OTHER   :    :  SOUTH CANOPY [ROOF]; ROTTED AND PULLING AWAY F...   \n",
       "2     OTHER   :    :                         WEST ENTRY  DOORS - RUSTED   \n",
       "3     OTHER   :    :  WEST LIMESTONES AT GRADE - WASHED OUT MORTAR A...   \n",
       "4     OTHER   :    :  REAR TWO STORY WOOD PORCH: GUARDRAILS ARE ONLY...   \n",
       "\n",
       "                                 violation_ordinance   ...   property_group  \\\n",
       "0        Remove debris from demolition. (13-124-110)   ...           535897   \n",
       "1  Repair or replace dangerous and hazardous cano...   ...           498843   \n",
       "2  Failed to maintain exterior door in sound cond...   ...            54091   \n",
       "3  Failed to maintain foundation in sound conditi...   ...            54091   \n",
       "4  Failed to repair or replace defective or missi...   ...            54091   \n",
       "\n",
       "   ssa   latitude  longitude                                location failed  \\\n",
       "0  NaN  41.674855 -87.624827  (41.67485479348155,-87.62482702711588)  False   \n",
       "1  NaN  41.703233 -87.618680   (41.70323290245266,-87.6186804543344)  False   \n",
       "2  NaN  41.899175 -87.750656  (41.89917481674128,-87.75065575722276)  False   \n",
       "3  NaN  41.899175 -87.750656  (41.89917481674128,-87.75065575722276)  False   \n",
       "4  NaN  41.899175 -87.750656  (41.89917481674128,-87.75065575722276)  False   \n",
       "\n",
       "  inspection_failed  CLOSED  FAILED  PASSED  \n",
       "0              True       0       1       0  \n",
       "1              True       0       1       0  \n",
       "2              True       0       1       0  \n",
       "3              True       0       1       0  \n",
       "4              True       0       1       0  \n",
       "\n",
       "[5 rows x 27 columns]"
      ]
     },
     "execution_count": 305,
     "metadata": {},
     "output_type": "execute_result"
    }
   ],
   "source": [
    "pd.concat([df_violations,dumms],axis=1).head()"
   ]
  }
 ],
 "metadata": {
  "kernelspec": {
   "display_name": "Python 2",
   "language": "python",
   "name": "python2"
  },
  "language_info": {
   "codemirror_mode": {
    "name": "ipython",
    "version": 2
   },
   "file_extension": ".py",
   "mimetype": "text/x-python",
   "name": "python",
   "nbconvert_exporter": "python",
   "pygments_lexer": "ipython2",
   "version": "2.7.9"
  }
 },
 "nbformat": 4,
 "nbformat_minor": 0
}
