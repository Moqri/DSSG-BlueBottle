{
 "cells": [
  {
   "cell_type": "code",
   "execution_count": 64,
   "metadata": {
    "collapsed": true
   },
   "outputs": [],
   "source": [
    "import pandas as pd\n",
    "import numpy as np"
   ]
  },
  {
   "cell_type": "code",
   "execution_count": 65,
   "metadata": {
    "collapsed": false
   },
   "outputs": [],
   "source": [
    "# Load data from CSV\n",
    "df = pd.read_csv(\"../data/Building_Violations_sample_50000.csv\")\n"
   ]
  },
  {
   "cell_type": "code",
   "execution_count": 66,
   "metadata": {
    "collapsed": false
   },
   "outputs": [],
   "source": [
    "## Clean data\n",
    "\n",
    "# Delete useless variable\n",
    "del df['Unnamed: 0']\n",
    "\n",
    "# Convert column headers to snake case\n",
    "import re\n",
    "\n",
    "def spaces_to_snake(str_with_spaces):\n",
    "    s = re.sub('\\s+','_',str_with_spaces)\n",
    "    return s.lower()\n",
    "\n",
    "df.columns = [spaces_to_snake(col) for col in df.columns]\n",
    "df.columns\n",
    "\n",
    "# Delete SSA column\n",
    "del df['ssa']\n",
    "\n",
    "# Convert dates to datetime format\n",
    "df.violation_date = pd.to_datetime(df.violation_date)\n",
    "df.violation_status_date = pd.to_datetime(df.violation_status_date)\n",
    "df.violation_last_modified_date = pd.to_datetime(df.violation_last_modified_date)"
   ]
  },
  {
   "cell_type": "code",
   "execution_count": 67,
   "metadata": {
    "collapsed": false
   },
   "outputs": [
    {
     "data": {
      "text/plain": [
       "id                                  0\n",
       "violation_last_modified_date        0\n",
       "violation_date                      0\n",
       "violation_code                      0\n",
       "violation_status                    0\n",
       "violation_status_date           36488\n",
       "violation_description             376\n",
       "violation_location              32484\n",
       "violation_inspector_comments     5295\n",
       "violation_ordinance              1538\n",
       "inspector_id                        0\n",
       "inspection_number                   0\n",
       "inspection_status                   0\n",
       "inspection_waived                   0\n",
       "inspection_category                 0\n",
       "department_bureau                   0\n",
       "address                             0\n",
       "property_group                      0\n",
       "latitude                           48\n",
       "longitude                          48\n",
       "location                           48\n",
       "dtype: int64"
      ]
     },
     "execution_count": 67,
     "metadata": {},
     "output_type": "execute_result"
    }
   ],
   "source": [
    "# Clean missing values\n",
    "df.isnull().sum(axis=0)"
   ]
  },
  {
   "cell_type": "code",
   "execution_count": 68,
   "metadata": {
    "collapsed": true
   },
   "outputs": [],
   "source": [
    "df.violation_description = df.violation_description.fillna('Empty description')"
   ]
  },
  {
   "cell_type": "code",
   "execution_count": 69,
   "metadata": {
    "collapsed": false
   },
   "outputs": [],
   "source": [
    "df.violation_ordinance = df.violation_ordinance.fillna('Missing ordinance')"
   ]
  },
  {
   "cell_type": "code",
   "execution_count": 70,
   "metadata": {
    "collapsed": false
   },
   "outputs": [],
   "source": [
    "# Write CSV with cleaned data\n",
    "df.to_csv(\"../data/Building_Violations_sample_50000_clean.csv\")"
   ]
  },
  {
   "cell_type": "code",
   "execution_count": 21,
   "metadata": {
    "collapsed": false
   },
   "outputs": [
    {
     "data": {
      "text/plain": [
       "id                                       int64\n",
       "violation_last_modified_date    datetime64[ns]\n",
       "violation_date                  datetime64[ns]\n",
       "violation_code                          object\n",
       "violation_status                        object\n",
       "violation_status_date           datetime64[ns]\n",
       "violation_description                   object\n",
       "violation_location                      object\n",
       "violation_inspector_comments            object\n",
       "violation_ordinance                     object\n",
       "inspector_id                            object\n",
       "inspection_number                        int64\n",
       "inspection_status                       object\n",
       "inspection_waived                       object\n",
       "inspection_category                     object\n",
       "department_bureau                       object\n",
       "address                                 object\n",
       "property_group                           int64\n",
       "latitude                               float64\n",
       "longitude                              float64\n",
       "location                                object\n",
       "dtype: object"
      ]
     },
     "execution_count": 21,
     "metadata": {},
     "output_type": "execute_result"
    }
   ],
   "source": [
    "df.dtypes"
   ]
  },
  {
   "cell_type": "code",
   "execution_count": 57,
   "metadata": {
    "collapsed": false
   },
   "outputs": [
    {
     "data": {
      "text/plain": [
       "count        50000\n",
       "unique         757\n",
       "top       CN190019\n",
       "freq          2463\n",
       "Name: violation_code, dtype: object"
      ]
     },
     "execution_count": 57,
     "metadata": {},
     "output_type": "execute_result"
    }
   ],
   "source": [
    "# Check how many different violation codes there are\n",
    "df.violation_code.describe()"
   ]
  },
  {
   "cell_type": "code",
   "execution_count": 23,
   "metadata": {
    "collapsed": false
   },
   "outputs": [
    {
     "data": {
      "text/plain": [
       "ARRANGE PREMISE INSPECTION        2463\n",
       "POST OWNER/MANAGERS NAME/#        1619\n",
       "REPAIR EXTERIOR WALL              1488\n",
       "REPAIR PORCH SYSTEM               1326\n",
       "VACANT BUILDING - REGISTER        1065\n",
       "REPLCE WINDOW PANES, PLEXGLAS     1011\n",
       "PLANS & PERMITS REQ - CONTRCTR     964\n",
       "REPAIR EXTERIOR STAIR              937\n",
       "FILE BLDG REGISTRATION             904\n",
       "INSTALL SMOKE DETECTORS            892\n",
       "MAINTAIN OR REPAIR ELECT ELEVA     730\n",
       "DEBRIS, EXCESSIVE                  725\n",
       "STOP/REMOVE NUISANCE               696\n",
       "CARB MONOX DETECT IN RESID         638\n",
       "OBSTRUCTIONS IN EXIT WAY           625\n",
       "...\n",
       "CARB MONOX DETECT IN HOTEL        1\n",
       "ELIMINATE TRIPPING HAZARD PASS    1\n",
       "ENCL/SECURE OPENINGS PASS         1\n",
       "REP/REPL HANDRAIL FOR ESCL        1\n",
       "IDENTIFY ELE MACHINES             1\n",
       "PRV CONDENSER                     1\n",
       "REP/REPL DEF HALL BUTTONS PASS    1\n",
       "HEATER 8FT ABOVE FLR IN GARAGE    1\n",
       "PROVIDE HOT WATER                 1\n",
       "PRV ABSORBER                      1\n",
       "VERIFICATIONS OF D.U.             1\n",
       "NONCOMPLIANT MANLIFT              1\n",
       "REPAIR UNSAFE WATER TANK          1\n",
       "REPL BRAKE LINING FRT             1\n",
       "STOP USING INTER.REFUSE CHUTE     1\n",
       "Length: 724, dtype: int64"
      ]
     },
     "execution_count": 23,
     "metadata": {},
     "output_type": "execute_result"
    }
   ],
   "source": [
    "df.violation_description.value_counts()"
   ]
  },
  {
   "cell_type": "code",
   "execution_count": 24,
   "metadata": {
    "collapsed": false
   },
   "outputs": [],
   "source": [
    "# Create a list of violation codes <--> violation descriptions\n",
    "list_of_violations = df[['violation_code', 'violation_description']].sort(['violation_code', 'violation_description']).drop_duplicates()"
   ]
  },
  {
   "cell_type": "code",
   "execution_count": 25,
   "metadata": {
    "collapsed": false
   },
   "outputs": [],
   "source": [
    "list_of_violations.to_csv('../data documentation/list_of_violations.csv',index=False)"
   ]
  },
  {
   "cell_type": "code",
   "execution_count": 26,
   "metadata": {
    "collapsed": false
   },
   "outputs": [
    {
     "data": {
      "text/plain": [
       "count     50000\n",
       "unique        3\n",
       "top        OPEN\n",
       "freq      36355\n",
       "Name: violation_status, dtype: object"
      ]
     },
     "execution_count": 26,
     "metadata": {},
     "output_type": "execute_result"
    }
   ],
   "source": [
    "# Check how many kinds of violation status\n",
    "df.violation_status.describe()\n"
   ]
  },
  {
   "cell_type": "code",
   "execution_count": 27,
   "metadata": {
    "collapsed": false
   },
   "outputs": [
    {
     "data": {
      "text/plain": [
       "OPEN        36355\n",
       "COMPLIED    13500\n",
       "NO ENTRY      145\n",
       "dtype: int64"
      ]
     },
     "execution_count": 27,
     "metadata": {},
     "output_type": "execute_result"
    }
   ],
   "source": [
    "df.violation_status.value_counts()"
   ]
  },
  {
   "cell_type": "code",
   "execution_count": 29,
   "metadata": {
    "collapsed": false
   },
   "outputs": [
    {
     "data": {
      "text/plain": [
       "0                    OTHER   :    :\n",
       "1     OTHER   :    :MULTIPLE FLOORS\n",
       "2                    OTHER   :    :\n",
       "3                    OTHER   :    :\n",
       "4                    OTHER   :    :\n",
       "5                    OTHER   :    :\n",
       "6                    OTHER   :    :\n",
       "7                    EXTERIOR:W   :\n",
       "8                    OTHER   :    :\n",
       "9            OTHER   :    :BUILDING\n",
       "10                   OTHER   :    :\n",
       "11                   OTHER   :    :\n",
       "12                   EXTERIOR:S   :\n",
       "13                              NaN\n",
       "14                   EXTERIOR:W   :\n",
       "...\n",
       "85            OTHER   :    :\n",
       "86            OTHER   :    :\n",
       "87                       NaN\n",
       "88            OTHER   :    :\n",
       "89            OTHER   :    :\n",
       "90            OTHER   :    :\n",
       "91            INTERIOR:-1  :\n",
       "92            OTHER   :    :\n",
       "93                       NaN\n",
       "94            OTHER   :    :\n",
       "95                       NaN\n",
       "96            EXTERIOR:S   :\n",
       "97    OTHER   :    :BUILDING\n",
       "98                       NaN\n",
       "99                       NaN\n",
       "Name: violation_location, Length: 100, dtype: object"
      ]
     },
     "execution_count": 29,
     "metadata": {},
     "output_type": "execute_result"
    }
   ],
   "source": [
    "# Violation location is an ugly variable, don't plan to use it for now\n",
    "df.violation_location.head(100)"
   ]
  },
  {
   "cell_type": "code",
   "execution_count": 32,
   "metadata": {
    "collapsed": false
   },
   "outputs": [
    {
     "data": {
      "text/plain": [
       "count                                               48462\n",
       "unique                                                716\n",
       "top       Arrange for inspection of premises. (13-12-100)\n",
       "freq                                                 2463\n",
       "Name: violation_ordinance, dtype: object"
      ]
     },
     "execution_count": 32,
     "metadata": {},
     "output_type": "execute_result"
    }
   ],
   "source": [
    "df.violation_ordinance.describe()"
   ]
  },
  {
   "cell_type": "code",
   "execution_count": 71,
   "metadata": {
    "collapsed": false
   },
   "outputs": [],
   "source": [
    "## Check 1:1 mapping between violation_code and violation_description\n",
    "grp_code = df.groupby(['violation_code'])\n",
    "grp_desc = df.groupby(['violation_description'])\n",
    "grp_code_desc = df.groupby(['violation_code', 'violation_description'])\n",
    "\n"
   ]
  },
  {
   "cell_type": "code",
   "execution_count": 72,
   "metadata": {
    "collapsed": false
   },
   "outputs": [
    {
     "data": {
      "text/plain": [
       "(757,)"
      ]
     },
     "execution_count": 72,
     "metadata": {},
     "output_type": "execute_result"
    }
   ],
   "source": [
    "grp_code.id.count().shape"
   ]
  },
  {
   "cell_type": "code",
   "execution_count": 73,
   "metadata": {
    "collapsed": false
   },
   "outputs": [
    {
     "data": {
      "text/plain": [
       "(725,)"
      ]
     },
     "execution_count": 73,
     "metadata": {},
     "output_type": "execute_result"
    }
   ],
   "source": [
    "grp_desc.id.count().shape"
   ]
  },
  {
   "cell_type": "code",
   "execution_count": 75,
   "metadata": {
    "collapsed": false
   },
   "outputs": [
    {
     "data": {
      "text/plain": [
       "(757,)"
      ]
     },
     "execution_count": 75,
     "metadata": {},
     "output_type": "execute_result"
    }
   ],
   "source": [
    "grp_code_desc.id.count().shape"
   ]
  },
  {
   "cell_type": "code",
   "execution_count": null,
   "metadata": {
    "collapsed": true
   },
   "outputs": [],
   "source": []
  }
 ],
 "metadata": {
  "kernelspec": {
   "display_name": "Python 2",
   "language": "python",
   "name": "python2"
  },
  "language_info": {
   "codemirror_mode": {
    "name": "ipython",
    "version": 2
   },
   "file_extension": ".py",
   "mimetype": "text/x-python",
   "name": "python",
   "nbconvert_exporter": "python",
   "pygments_lexer": "ipython2",
   "version": "2.7.9"
  }
 },
 "nbformat": 4,
 "nbformat_minor": 0
}
