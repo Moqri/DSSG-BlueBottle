{
 "cells": [
  {
   "cell_type": "code",
   "execution_count": 19,
   "metadata": {
    "collapsed": true
   },
   "outputs": [],
   "source": [
    "import pandas as pd\n",
    "import numpy as np"
   ]
  },
  {
   "cell_type": "code",
   "execution_count": 20,
   "metadata": {
    "collapsed": false
   },
   "outputs": [],
   "source": [
    "# Load data from CSV\n",
    "df = pd.read_csv(\"../data/Building_Violations_sample_50000.csv\")\n"
   ]
  },
  {
   "cell_type": "code",
   "execution_count": 21,
   "metadata": {
    "collapsed": false
   },
   "outputs": [],
   "source": [
    "## Clean data\n",
    "\n",
    "# Delete useless variable\n",
    "del df['Unnamed: 0']\n",
    "\n",
    "# Convert column headers to snake case\n",
    "import re\n",
    "\n",
    "def spaces_to_snake(str_with_spaces):\n",
    "    s = re.sub('\\s+','_',str_with_spaces)\n",
    "    return s.lower()\n",
    "\n",
    "df.columns = [spaces_to_snake(col) for col in df.columns]\n",
    "df.columns\n",
    "\n",
    "# Delete SSA column\n",
    "del df['ssa']\n",
    "\n",
    "# Convert dates to datetime format\n",
    "df.violation_date = pd.to_datetime(df.violation_date)\n",
    "df.violation_status_date = pd.to_datetime(df.violation_status_date)\n",
    "df.violation_last_modified_date = pd.to_datetime(df.violation_last_modified_date)"
   ]
  },
  {
   "cell_type": "code",
   "execution_count": 22,
   "metadata": {
    "collapsed": false
   },
   "outputs": [],
   "source": [
    "# Write CSV with cleaned data\n",
    "df.to_csv(\"../data/Building_Violations_sample_50000_clean.csv\")"
   ]
  },
  {
   "cell_type": "code",
   "execution_count": 14,
   "metadata": {
    "collapsed": false
   },
   "outputs": [
    {
     "data": {
      "text/plain": [
       "id                                       int64\n",
       "violation_last_modified_date    datetime64[ns]\n",
       "violation_date                  datetime64[ns]\n",
       "violation_code                          object\n",
       "violation_status                        object\n",
       "violation_status_date           datetime64[ns]\n",
       "violation_description                   object\n",
       "violation_location                      object\n",
       "violation_inspector_comments            object\n",
       "violation_ordinance                     object\n",
       "inspector_id                            object\n",
       "inspection_number                        int64\n",
       "inspection_status                       object\n",
       "inspection_waived                       object\n",
       "inspection_category                     object\n",
       "department_bureau                       object\n",
       "address                                 object\n",
       "property_group                           int64\n",
       "latitude                               float64\n",
       "longitude                              float64\n",
       "location                                object\n",
       "dtype: object"
      ]
     },
     "execution_count": 14,
     "metadata": {},
     "output_type": "execute_result"
    }
   ],
   "source": [
    "df.dtypes"
   ]
  },
  {
   "cell_type": "code",
   "execution_count": 15,
   "metadata": {
    "collapsed": false
   },
   "outputs": [
    {
     "data": {
      "text/plain": [
       "count        50000\n",
       "unique         757\n",
       "top       CN190019\n",
       "freq          2463\n",
       "Name: violation_code, dtype: object"
      ]
     },
     "execution_count": 15,
     "metadata": {},
     "output_type": "execute_result"
    }
   ],
   "source": [
    "# Check how many different violation codes there are\n",
    "df.violation_code.describe()"
   ]
  },
  {
   "cell_type": "code",
   "execution_count": 27,
   "metadata": {
    "collapsed": false
   },
   "outputs": [
    {
     "data": {
      "text/plain": [
       "ARRANGE PREMISE INSPECTION        2463\n",
       "POST OWNER/MANAGERS NAME/#        1619\n",
       "REPAIR EXTERIOR WALL              1488\n",
       "REPAIR PORCH SYSTEM               1326\n",
       "VACANT BUILDING - REGISTER        1065\n",
       "REPLCE WINDOW PANES, PLEXGLAS     1011\n",
       "PLANS & PERMITS REQ - CONTRCTR     964\n",
       "REPAIR EXTERIOR STAIR              937\n",
       "FILE BLDG REGISTRATION             904\n",
       "INSTALL SMOKE DETECTORS            892\n",
       "MAINTAIN OR REPAIR ELECT ELEVA     730\n",
       "DEBRIS, EXCESSIVE                  725\n",
       "STOP/REMOVE NUISANCE               696\n",
       "CARB MONOX DETECT IN RESID         638\n",
       "OBSTRUCTIONS IN EXIT WAY           625\n",
       "...\n",
       "CARB MONOX DETECT IN HOTEL        1\n",
       "ELIMINATE TRIPPING HAZARD PASS    1\n",
       "ENCL/SECURE OPENINGS PASS         1\n",
       "REP/REPL HANDRAIL FOR ESCL        1\n",
       "IDENTIFY ELE MACHINES             1\n",
       "PRV CONDENSER                     1\n",
       "REP/REPL DEF HALL BUTTONS PASS    1\n",
       "HEATER 8FT ABOVE FLR IN GARAGE    1\n",
       "PROVIDE HOT WATER                 1\n",
       "PRV ABSORBER                      1\n",
       "VERIFICATIONS OF D.U.             1\n",
       "NONCOMPLIANT MANLIFT              1\n",
       "REPAIR UNSAFE WATER TANK          1\n",
       "REPL BRAKE LINING FRT             1\n",
       "STOP USING INTER.REFUSE CHUTE     1\n",
       "Length: 724, dtype: int64"
      ]
     },
     "execution_count": 27,
     "metadata": {},
     "output_type": "execute_result"
    }
   ],
   "source": [
    "df.violation_description.value_counts()"
   ]
  },
  {
   "cell_type": "code",
   "execution_count": 52,
   "metadata": {
    "collapsed": false
   },
   "outputs": [],
   "source": [
    "# Create a list of violation codes <--> violation descriptions\n",
    "list_of_violations = df[['violation_code', 'violation_description']].sort(['violation_code', 'violation_description']).drop_duplicates()"
   ]
  },
  {
   "cell_type": "code",
   "execution_count": 58,
   "metadata": {
    "collapsed": false
   },
   "outputs": [],
   "source": [
    "list_of_violations.to_csv('../data documentation/list_of_violations.csv',index=False)"
   ]
  },
  {
   "cell_type": "code",
   "execution_count": 28,
   "metadata": {
    "collapsed": false
   },
   "outputs": [
    {
     "data": {
      "text/plain": [
       "count     50000\n",
       "unique        3\n",
       "top        OPEN\n",
       "freq      36355\n",
       "Name: violation_status, dtype: object"
      ]
     },
     "execution_count": 28,
     "metadata": {},
     "output_type": "execute_result"
    }
   ],
   "source": [
    "# Check how many kinds of violation status\n",
    "df.violation_status.describe()\n"
   ]
  },
  {
   "cell_type": "code",
   "execution_count": 29,
   "metadata": {
    "collapsed": false
   },
   "outputs": [
    {
     "data": {
      "text/plain": [
       "OPEN        36355\n",
       "COMPLIED    13500\n",
       "NO ENTRY      145\n",
       "dtype: int64"
      ]
     },
     "execution_count": 29,
     "metadata": {},
     "output_type": "execute_result"
    }
   ],
   "source": [
    "df.violation_status.value_counts()"
   ]
  },
  {
   "cell_type": "code",
   "execution_count": null,
   "metadata": {
    "collapsed": true
   },
   "outputs": [],
   "source": []
  }
 ],
 "metadata": {
  "kernelspec": {
   "display_name": "Python 2",
   "language": "python",
   "name": "python2"
  },
  "language_info": {
   "codemirror_mode": {
    "name": "ipython",
    "version": 2
   },
   "file_extension": ".py",
   "mimetype": "text/x-python",
   "name": "python",
   "nbconvert_exporter": "python",
   "pygments_lexer": "ipython2",
   "version": "2.7.9"
  }
 },
 "nbformat": 4,
 "nbformat_minor": 0
}
