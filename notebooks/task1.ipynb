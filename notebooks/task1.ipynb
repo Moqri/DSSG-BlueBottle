{
 "cells": [
  {
   "cell_type": "markdown",
   "metadata": {},
   "source": [
    "#Breakout Task 1"
   ]
  },
  {
   "cell_type": "code",
   "execution_count": 10,
   "metadata": {
    "collapsed": true
   },
   "outputs": [],
   "source": [
    "import pandas as pd\n",
    "import numpy as np\n",
    "import datetime"
   ]
  },
  {
   "cell_type": "code",
   "execution_count": 58,
   "metadata": {
    "collapsed": false
   },
   "outputs": [],
   "source": [
    "df = pd.read_csv('/home/bene/Documents/DSSG/Bootcamp/DSSG-BlueBottle/data/Building_Violations_sample_50000.csv')"
   ]
  },
  {
   "cell_type": "code",
   "execution_count": 59,
   "metadata": {
    "collapsed": false
   },
   "outputs": [
    {
     "data": {
      "text/html": [
       "<div style=\"max-height:1000px;max-width:1500px;overflow:auto;\">\n",
       "<table border=\"1\" class=\"dataframe\">\n",
       "  <thead>\n",
       "    <tr style=\"text-align: right;\">\n",
       "      <th></th>\n",
       "      <th>Unnamed: 0</th>\n",
       "      <th>ID</th>\n",
       "      <th>VIOLATION LAST MODIFIED DATE</th>\n",
       "      <th>VIOLATION DATE</th>\n",
       "      <th>VIOLATION CODE</th>\n",
       "      <th>VIOLATION STATUS</th>\n",
       "      <th>VIOLATION STATUS DATE</th>\n",
       "      <th>VIOLATION DESCRIPTION</th>\n",
       "      <th>VIOLATION LOCATION</th>\n",
       "      <th>VIOLATION INSPECTOR COMMENTS</th>\n",
       "      <th>...</th>\n",
       "      <th>INSPECTION STATUS</th>\n",
       "      <th>INSPECTION WAIVED</th>\n",
       "      <th>INSPECTION CATEGORY</th>\n",
       "      <th>DEPARTMENT BUREAU</th>\n",
       "      <th>ADDRESS</th>\n",
       "      <th>PROPERTY GROUP</th>\n",
       "      <th>SSA</th>\n",
       "      <th>LATITUDE</th>\n",
       "      <th>LONGITUDE</th>\n",
       "      <th>LOCATION</th>\n",
       "    </tr>\n",
       "  </thead>\n",
       "  <tbody>\n",
       "    <tr>\n",
       "      <th>0</th>\n",
       "      <td> 0</td>\n",
       "      <td> 5063843</td>\n",
       "      <td> 05/21/2015</td>\n",
       "      <td> 05/21/2015</td>\n",
       "      <td> CN065014</td>\n",
       "      <td> OPEN</td>\n",
       "      <td> NaN</td>\n",
       "      <td>                 REPAIR LINTELS</td>\n",
       "      <td>                OTHER   :    :</td>\n",
       "      <td>                                  LINTELS; RUSTED.</td>\n",
       "      <td>...</td>\n",
       "      <td> FAILED</td>\n",
       "      <td> N</td>\n",
       "      <td> COMPLAINT</td>\n",
       "      <td> CONSERVATION</td>\n",
       "      <td>                 722 E 89TH ST</td>\n",
       "      <td> 461523</td>\n",
       "      <td>  51</td>\n",
       "      <td> 41.733089</td>\n",
       "      <td>-87.606184</td>\n",
       "      <td> (41.73308939713441,-87.60618433527188)</td>\n",
       "    </tr>\n",
       "    <tr>\n",
       "      <th>1</th>\n",
       "      <td> 1</td>\n",
       "      <td> 5063990</td>\n",
       "      <td> 05/21/2015</td>\n",
       "      <td> 05/21/2015</td>\n",
       "      <td> CN044013</td>\n",
       "      <td> OPEN</td>\n",
       "      <td> NaN</td>\n",
       "      <td> PIPE OPENING W/NONCOMBUST MATL</td>\n",
       "      <td> OTHER   :    :MULTIPLE FLOORS</td>\n",
       "      <td> OPENINGS AROUND PIPES, SEAL WITH APPROVED MATE...</td>\n",
       "      <td>...</td>\n",
       "      <td> FAILED</td>\n",
       "      <td> N</td>\n",
       "      <td>  PERIODIC</td>\n",
       "      <td> CONSERVATION</td>\n",
       "      <td> 6444 S DR MARTIN L KING JR DR</td>\n",
       "      <td>  19575</td>\n",
       "      <td> NaN</td>\n",
       "      <td> 41.777088</td>\n",
       "      <td>-87.615694</td>\n",
       "      <td> (41.77708792596553,-87.61569442972947)</td>\n",
       "    </tr>\n",
       "    <tr>\n",
       "      <th>2</th>\n",
       "      <td> 2</td>\n",
       "      <td> 5064022</td>\n",
       "      <td> 05/21/2015</td>\n",
       "      <td> 05/21/2015</td>\n",
       "      <td> CN104035</td>\n",
       "      <td> OPEN</td>\n",
       "      <td> NaN</td>\n",
       "      <td>                MAINTAIN WINDOW</td>\n",
       "      <td>                OTHER   :    :</td>\n",
       "      <td> ALL ELEVATIONS , WOOD WINDOW FRAMES  AND NORTH...</td>\n",
       "      <td>...</td>\n",
       "      <td> FAILED</td>\n",
       "      <td> N</td>\n",
       "      <td> COMPLAINT</td>\n",
       "      <td> CONSERVATION</td>\n",
       "      <td>             3115 N SAWYER AVE</td>\n",
       "      <td> 117375</td>\n",
       "      <td> NaN</td>\n",
       "      <td> 41.937995</td>\n",
       "      <td>-87.708657</td>\n",
       "      <td> (41.93799454179893,-87.70865671096144)</td>\n",
       "    </tr>\n",
       "  </tbody>\n",
       "</table>\n",
       "<p>3 rows × 23 columns</p>\n",
       "</div>"
      ],
      "text/plain": [
       "   Unnamed: 0       ID VIOLATION LAST MODIFIED DATE VIOLATION DATE  \\\n",
       "0           0  5063843                   05/21/2015     05/21/2015   \n",
       "1           1  5063990                   05/21/2015     05/21/2015   \n",
       "2           2  5064022                   05/21/2015     05/21/2015   \n",
       "\n",
       "  VIOLATION CODE VIOLATION STATUS VIOLATION STATUS DATE  \\\n",
       "0       CN065014             OPEN                   NaN   \n",
       "1       CN044013             OPEN                   NaN   \n",
       "2       CN104035             OPEN                   NaN   \n",
       "\n",
       "            VIOLATION DESCRIPTION             VIOLATION LOCATION  \\\n",
       "0                  REPAIR LINTELS                 OTHER   :    :   \n",
       "1  PIPE OPENING W/NONCOMBUST MATL  OTHER   :    :MULTIPLE FLOORS   \n",
       "2                 MAINTAIN WINDOW                 OTHER   :    :   \n",
       "\n",
       "                        VIOLATION INSPECTOR COMMENTS  \\\n",
       "0                                   LINTELS; RUSTED.   \n",
       "1  OPENINGS AROUND PIPES, SEAL WITH APPROVED MATE...   \n",
       "2  ALL ELEVATIONS , WOOD WINDOW FRAMES  AND NORTH...   \n",
       "\n",
       "                    ...                   INSPECTION STATUS INSPECTION WAIVED  \\\n",
       "0                   ...                              FAILED                 N   \n",
       "1                   ...                              FAILED                 N   \n",
       "2                   ...                              FAILED                 N   \n",
       "\n",
       "   INSPECTION CATEGORY DEPARTMENT BUREAU                        ADDRESS  \\\n",
       "0            COMPLAINT      CONSERVATION                  722 E 89TH ST   \n",
       "1             PERIODIC      CONSERVATION  6444 S DR MARTIN L KING JR DR   \n",
       "2            COMPLAINT      CONSERVATION              3115 N SAWYER AVE   \n",
       "\n",
       "  PROPERTY GROUP  SSA   LATITUDE  LONGITUDE  \\\n",
       "0         461523   51  41.733089 -87.606184   \n",
       "1          19575  NaN  41.777088 -87.615694   \n",
       "2         117375  NaN  41.937995 -87.708657   \n",
       "\n",
       "                                 LOCATION  \n",
       "0  (41.73308939713441,-87.60618433527188)  \n",
       "1  (41.77708792596553,-87.61569442972947)  \n",
       "2  (41.93799454179893,-87.70865671096144)  \n",
       "\n",
       "[3 rows x 23 columns]"
      ]
     },
     "execution_count": 59,
     "metadata": {},
     "output_type": "execute_result"
    }
   ],
   "source": [
    "df.head(3)"
   ]
  },
  {
   "cell_type": "code",
   "execution_count": 23,
   "metadata": {
    "collapsed": false
   },
   "outputs": [],
   "source": [
    "del df['Unnamed: 0']"
   ]
  },
  {
   "cell_type": "code",
   "execution_count": 62,
   "metadata": {
    "collapsed": false
   },
   "outputs": [],
   "source": [
    "df.columns = [x.replace(' ','_').lower() for x in df.columns]"
   ]
  },
  {
   "cell_type": "code",
   "execution_count": 63,
   "metadata": {
    "collapsed": false
   },
   "outputs": [
    {
     "data": {
      "text/plain": [
       "Index([u'unnamed:_0', u'id', u'violation_last_modified_date', u'violation_date', u'violation_code', u'violation_status', u'violation_status_date', u'violation_description', u'violation_location', u'violation_inspector_comments', u'violation_ordinance', u'inspector_id', u'inspection_number', u'inspection_status', u'inspection_waived', u'inspection_category', u'department_bureau', u'address', u'property_group', u'ssa', u'latitude', u'longitude', u'location'], dtype='object')"
      ]
     },
     "execution_count": 63,
     "metadata": {},
     "output_type": "execute_result"
    }
   ],
   "source": [
    "df.columns"
   ]
  },
  {
   "cell_type": "code",
   "execution_count": 64,
   "metadata": {
    "collapsed": false
   },
   "outputs": [
    {
     "data": {
      "text/plain": [
       "unnamed:_0                          0\n",
       "id                                  0\n",
       "violation_last_modified_date        0\n",
       "violation_date                      0\n",
       "violation_code                      0\n",
       "violation_status                    0\n",
       "violation_status_date           36488\n",
       "violation_description             376\n",
       "violation_location              32484\n",
       "violation_inspector_comments     5295\n",
       "violation_ordinance              1538\n",
       "inspector_id                        0\n",
       "inspection_number                   0\n",
       "inspection_status                   0\n",
       "inspection_waived                   0\n",
       "inspection_category                 0\n",
       "department_bureau                   0\n",
       "address                             0\n",
       "property_group                      0\n",
       "ssa                             40639\n",
       "latitude                           48\n",
       "longitude                          48\n",
       "location                           48\n",
       "dtype: int64"
      ]
     },
     "execution_count": 64,
     "metadata": {},
     "output_type": "execute_result"
    }
   ],
   "source": [
    "df.isnull().sum(axis=0)"
   ]
  },
  {
   "cell_type": "code",
   "execution_count": 78,
   "metadata": {
    "collapsed": false
   },
   "outputs": [],
   "source": [
    "df.violation_inspector_comments = df.violation_inspector_comments.fillna('')\n",
    "df.violation_location = df.violation_location.fillna('')\n",
    "df.violation_inspector_comments = df.violation_inspector_comments.fillna('')"
   ]
  },
  {
   "cell_type": "code",
   "execution_count": 93,
   "metadata": {
    "collapsed": true
   },
   "outputs": [],
   "source": [
    "df.violation_date = pd.to_datetime(df.violation_date)\n",
    "df.violation_last_modified_date = pd.to_datetime(df.violation_last_modified_date)\n",
    "df.violation_status_date = pd.to_datetime(df.violation_status_date)"
   ]
  },
  {
   "cell_type": "code",
   "execution_count": 94,
   "metadata": {
    "collapsed": false
   },
   "outputs": [
    {
     "data": {
      "text/plain": [
       "unnamed:_0                               int64\n",
       "id                                       int64\n",
       "violation_last_modified_date    datetime64[ns]\n",
       "violation_date                  datetime64[ns]\n",
       "violation_code                          object\n",
       "violation_status                        object\n",
       "violation_status_date           datetime64[ns]\n",
       "violation_description                   object\n",
       "violation_location                      object\n",
       "violation_inspector_comments            object\n",
       "violation_ordinance                     object\n",
       "inspector_id                            object\n",
       "inspection_number                        int64\n",
       "inspection_status                       object\n",
       "inspection_waived                       object\n",
       "inspection_category                     object\n",
       "department_bureau                       object\n",
       "address                                 object\n",
       "property_group                           int64\n",
       "ssa                                     object\n",
       "latitude                               float64\n",
       "longitude                              float64\n",
       "location                                object\n",
       "dtype: object"
      ]
     },
     "execution_count": 94,
     "metadata": {},
     "output_type": "execute_result"
    }
   ],
   "source": [
    "df.dtypes"
   ]
  },
  {
   "cell_type": "code",
   "execution_count": 88,
   "metadata": {
    "collapsed": false
   },
   "outputs": [],
   "source": [
    "df = df.sort(['violation_date'],axis=0)"
   ]
  },
  {
   "cell_type": "code",
   "execution_count": 95,
   "metadata": {
    "collapsed": false
   },
   "outputs": [],
   "source": [
    "datediffs = df.violation_status_date - df.violation_date"
   ]
  },
  {
   "cell_type": "code",
   "execution_count": 98,
   "metadata": {
    "collapsed": false
   },
   "outputs": [],
   "source": [
    "datediffs = datediffs.dropna()"
   ]
  },
  {
   "cell_type": "code",
   "execution_count": 143,
   "metadata": {
    "collapsed": false
   },
   "outputs": [
    {
     "data": {
      "text/plain": [
       "Timedelta('367 days 00:00:00')"
      ]
     },
     "execution_count": 143,
     "metadata": {},
     "output_type": "execute_result"
    }
   ],
   "source": [
    "datediffs.shape\n",
    "datediffs.iloc[25]"
   ]
  }
 ],
 "metadata": {
  "kernelspec": {
   "display_name": "Python 2",
   "language": "python",
   "name": "python2"
  },
  "language_info": {
   "codemirror_mode": {
    "name": "ipython",
    "version": 2
   },
   "file_extension": ".py",
   "mimetype": "text/x-python",
   "name": "python",
   "nbconvert_exporter": "python",
   "pygments_lexer": "ipython2",
   "version": "2.7.9"
  }
 },
 "nbformat": 4,
 "nbformat_minor": 0
}
